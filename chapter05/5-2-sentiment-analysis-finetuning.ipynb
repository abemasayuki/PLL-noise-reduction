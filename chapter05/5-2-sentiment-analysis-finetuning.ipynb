{
  "cells": [
    {
      "cell_type": "markdown",
      "id": "93ccd385",
      "metadata": {
        "id": "93ccd385"
      },
      "source": [
        "# 第5章 大規模言語モデルのファインチューニング"
      ]
    },
    {
      "cell_type": "markdown",
      "source": [
        "**注意**\n",
        "2023/7/28現在、MARC-jaのデータセットの配布元のリンクが切れており、書籍上の5.2、5.3、5.5.4節に掲載されているコードにおいて、データセット読み込みの箇所でエラーが出る状態です。このため、MARC-jaと同様の感情分析のデータセットであるWRIMEを用いた同様のノートブックを[こちら](https://colab.research.google.com/github/ghmagazine/llm-book/blob/main/chapter5/5-2-sentiment-analysis-finetuning-wrime.ipynb)に用意しましたので適宜ご参照ください。"
      ],
      "metadata": {
        "collapsed": false,
        "pycharm": {
          "name": "#%% md\n"
        },
        "id": "iHo-kU8aUrIs"
      },
      "id": "iHo-kU8aUrIs"
    },
    {
      "cell_type": "markdown",
      "source": [
        "## 5.2 感情分析モデルの実装"
      ],
      "metadata": {
        "id": "udaE87CIUSyv"
      },
      "id": "udaE87CIUSyv"
    },
    {
      "cell_type": "markdown",
      "id": "e451487d",
      "metadata": {
        "id": "e451487d"
      },
      "source": [
        "### 5.2.1 環境の準備"
      ]
    },
    {
      "cell_type": "code",
      "execution_count": 1,
      "id": "95812908",
      "metadata": {
        "colab": {
          "base_uri": "https://localhost:8080/"
        },
        "id": "95812908",
        "outputId": "f783ac46-3357-4d8a-a713-9a79f7b856ee"
      },
      "outputs": [
        {
          "output_type": "stream",
          "name": "stdout",
          "text": [
            "Collecting datasets\n",
            "  Downloading datasets-3.5.0-py3-none-any.whl.metadata (19 kB)\n",
            "Requirement already satisfied: matplotlib in /usr/local/lib/python3.11/dist-packages (3.10.0)\n",
            "Collecting japanize-matplotlib\n",
            "  Downloading japanize-matplotlib-1.1.3.tar.gz (4.1 MB)\n",
            "\u001b[2K     \u001b[90m━━━━━━━━━━━━━━━━━━━━━━━━━━━━━━━━━━━━━━━━\u001b[0m \u001b[32m4.1/4.1 MB\u001b[0m \u001b[31m33.7 MB/s\u001b[0m eta \u001b[36m0:00:00\u001b[0m\n",
            "\u001b[?25h  Preparing metadata (setup.py) ... \u001b[?25l\u001b[?25hdone\n",
            "Requirement already satisfied: transformers[ja,torch] in /usr/local/lib/python3.11/dist-packages (4.51.1)\n",
            "Requirement already satisfied: filelock in /usr/local/lib/python3.11/dist-packages (from transformers[ja,torch]) (3.18.0)\n",
            "Requirement already satisfied: huggingface-hub<1.0,>=0.30.0 in /usr/local/lib/python3.11/dist-packages (from transformers[ja,torch]) (0.30.2)\n",
            "Requirement already satisfied: numpy>=1.17 in /usr/local/lib/python3.11/dist-packages (from transformers[ja,torch]) (2.0.2)\n",
            "Requirement already satisfied: packaging>=20.0 in /usr/local/lib/python3.11/dist-packages (from transformers[ja,torch]) (24.2)\n",
            "Requirement already satisfied: pyyaml>=5.1 in /usr/local/lib/python3.11/dist-packages (from transformers[ja,torch]) (6.0.2)\n",
            "Requirement already satisfied: regex!=2019.12.17 in /usr/local/lib/python3.11/dist-packages (from transformers[ja,torch]) (2024.11.6)\n",
            "Requirement already satisfied: requests in /usr/local/lib/python3.11/dist-packages (from transformers[ja,torch]) (2.32.3)\n",
            "Requirement already satisfied: tokenizers<0.22,>=0.21 in /usr/local/lib/python3.11/dist-packages (from transformers[ja,torch]) (0.21.1)\n",
            "Requirement already satisfied: safetensors>=0.4.3 in /usr/local/lib/python3.11/dist-packages (from transformers[ja,torch]) (0.5.3)\n",
            "Requirement already satisfied: tqdm>=4.27 in /usr/local/lib/python3.11/dist-packages (from transformers[ja,torch]) (4.67.1)\n",
            "Collecting fugashi>=1.0 (from transformers[ja,torch])\n",
            "  Downloading fugashi-1.4.0-cp311-cp311-manylinux_2_17_x86_64.manylinux2014_x86_64.whl.metadata (6.9 kB)\n",
            "Collecting ipadic<2.0,>=1.0.0 (from transformers[ja,torch])\n",
            "  Downloading ipadic-1.0.0.tar.gz (13.4 MB)\n",
            "\u001b[2K     \u001b[90m━━━━━━━━━━━━━━━━━━━━━━━━━━━━━━━━━━━━━━━━\u001b[0m \u001b[32m13.4/13.4 MB\u001b[0m \u001b[31m31.6 MB/s\u001b[0m eta \u001b[36m0:00:00\u001b[0m\n",
            "\u001b[?25h  Preparing metadata (setup.py) ... \u001b[?25l\u001b[?25hdone\n",
            "Collecting unidic-lite>=1.0.7 (from transformers[ja,torch])\n",
            "  Downloading unidic-lite-1.0.8.tar.gz (47.4 MB)\n",
            "\u001b[2K     \u001b[90m━━━━━━━━━━━━━━━━━━━━━━━━━━━━━━━━━━━━━━━━\u001b[0m \u001b[32m47.4/47.4 MB\u001b[0m \u001b[31m9.1 MB/s\u001b[0m eta \u001b[36m0:00:00\u001b[0m\n",
            "\u001b[?25h  Preparing metadata (setup.py) ... \u001b[?25l\u001b[?25hdone\n",
            "Collecting unidic>=1.0.2 (from transformers[ja,torch])\n",
            "  Downloading unidic-1.1.0.tar.gz (7.7 kB)\n",
            "  Preparing metadata (setup.py) ... \u001b[?25l\u001b[?25hdone\n",
            "Collecting sudachipy>=0.6.6 (from transformers[ja,torch])\n",
            "  Downloading SudachiPy-0.6.10-cp311-cp311-manylinux_2_17_x86_64.manylinux2014_x86_64.whl.metadata (12 kB)\n",
            "Collecting sudachidict-core>=20220729 (from transformers[ja,torch])\n",
            "  Downloading SudachiDict_core-20250129-py3-none-any.whl.metadata (2.5 kB)\n",
            "Collecting rhoknp<1.3.1,>=1.1.0 (from transformers[ja,torch])\n",
            "  Downloading rhoknp-1.3.0-py3-none-any.whl.metadata (7.8 kB)\n",
            "Requirement already satisfied: torch>=2.0 in /usr/local/lib/python3.11/dist-packages (from transformers[ja,torch]) (2.6.0+cu124)\n",
            "Requirement already satisfied: accelerate>=0.26.0 in /usr/local/lib/python3.11/dist-packages (from transformers[ja,torch]) (1.5.2)\n",
            "Requirement already satisfied: pyarrow>=15.0.0 in /usr/local/lib/python3.11/dist-packages (from datasets) (18.1.0)\n",
            "Collecting dill<0.3.9,>=0.3.0 (from datasets)\n",
            "  Downloading dill-0.3.8-py3-none-any.whl.metadata (10 kB)\n",
            "Requirement already satisfied: pandas in /usr/local/lib/python3.11/dist-packages (from datasets) (2.2.2)\n",
            "Collecting xxhash (from datasets)\n",
            "  Downloading xxhash-3.5.0-cp311-cp311-manylinux_2_17_x86_64.manylinux2014_x86_64.whl.metadata (12 kB)\n",
            "Collecting multiprocess<0.70.17 (from datasets)\n",
            "  Downloading multiprocess-0.70.16-py311-none-any.whl.metadata (7.2 kB)\n",
            "Collecting fsspec<=2024.12.0,>=2023.1.0 (from fsspec[http]<=2024.12.0,>=2023.1.0->datasets)\n",
            "  Downloading fsspec-2024.12.0-py3-none-any.whl.metadata (11 kB)\n",
            "Requirement already satisfied: aiohttp in /usr/local/lib/python3.11/dist-packages (from datasets) (3.11.15)\n",
            "Requirement already satisfied: contourpy>=1.0.1 in /usr/local/lib/python3.11/dist-packages (from matplotlib) (1.3.1)\n",
            "Requirement already satisfied: cycler>=0.10 in /usr/local/lib/python3.11/dist-packages (from matplotlib) (0.12.1)\n",
            "Requirement already satisfied: fonttools>=4.22.0 in /usr/local/lib/python3.11/dist-packages (from matplotlib) (4.57.0)\n",
            "Requirement already satisfied: kiwisolver>=1.3.1 in /usr/local/lib/python3.11/dist-packages (from matplotlib) (1.4.8)\n",
            "Requirement already satisfied: pillow>=8 in /usr/local/lib/python3.11/dist-packages (from matplotlib) (11.1.0)\n",
            "Requirement already satisfied: pyparsing>=2.3.1 in /usr/local/lib/python3.11/dist-packages (from matplotlib) (3.2.3)\n",
            "Requirement already satisfied: python-dateutil>=2.7 in /usr/local/lib/python3.11/dist-packages (from matplotlib) (2.8.2)\n",
            "Requirement already satisfied: psutil in /usr/local/lib/python3.11/dist-packages (from accelerate>=0.26.0->transformers[ja,torch]) (5.9.5)\n",
            "Requirement already satisfied: aiohappyeyeballs>=2.3.0 in /usr/local/lib/python3.11/dist-packages (from aiohttp->datasets) (2.6.1)\n",
            "Requirement already satisfied: aiosignal>=1.1.2 in /usr/local/lib/python3.11/dist-packages (from aiohttp->datasets) (1.3.2)\n",
            "Requirement already satisfied: attrs>=17.3.0 in /usr/local/lib/python3.11/dist-packages (from aiohttp->datasets) (25.3.0)\n",
            "Requirement already satisfied: frozenlist>=1.1.1 in /usr/local/lib/python3.11/dist-packages (from aiohttp->datasets) (1.5.0)\n",
            "Requirement already satisfied: multidict<7.0,>=4.5 in /usr/local/lib/python3.11/dist-packages (from aiohttp->datasets) (6.4.2)\n",
            "Requirement already satisfied: propcache>=0.2.0 in /usr/local/lib/python3.11/dist-packages (from aiohttp->datasets) (0.3.1)\n",
            "Requirement already satisfied: yarl<2.0,>=1.17.0 in /usr/local/lib/python3.11/dist-packages (from aiohttp->datasets) (1.19.0)\n",
            "Requirement already satisfied: typing-extensions>=3.7.4.3 in /usr/local/lib/python3.11/dist-packages (from huggingface-hub<1.0,>=0.30.0->transformers[ja,torch]) (4.13.1)\n",
            "Requirement already satisfied: six>=1.5 in /usr/local/lib/python3.11/dist-packages (from python-dateutil>=2.7->matplotlib) (1.17.0)\n",
            "Requirement already satisfied: charset-normalizer<4,>=2 in /usr/local/lib/python3.11/dist-packages (from requests->transformers[ja,torch]) (3.4.1)\n",
            "Requirement already satisfied: idna<4,>=2.5 in /usr/local/lib/python3.11/dist-packages (from requests->transformers[ja,torch]) (3.10)\n",
            "Requirement already satisfied: urllib3<3,>=1.21.1 in /usr/local/lib/python3.11/dist-packages (from requests->transformers[ja,torch]) (2.3.0)\n",
            "Requirement already satisfied: certifi>=2017.4.17 in /usr/local/lib/python3.11/dist-packages (from requests->transformers[ja,torch]) (2025.1.31)\n",
            "Requirement already satisfied: networkx in /usr/local/lib/python3.11/dist-packages (from torch>=2.0->transformers[ja,torch]) (3.4.2)\n",
            "Requirement already satisfied: jinja2 in /usr/local/lib/python3.11/dist-packages (from torch>=2.0->transformers[ja,torch]) (3.1.6)\n",
            "Collecting nvidia-cuda-nvrtc-cu12==12.4.127 (from torch>=2.0->transformers[ja,torch])\n",
            "  Downloading nvidia_cuda_nvrtc_cu12-12.4.127-py3-none-manylinux2014_x86_64.whl.metadata (1.5 kB)\n",
            "Collecting nvidia-cuda-runtime-cu12==12.4.127 (from torch>=2.0->transformers[ja,torch])\n",
            "  Downloading nvidia_cuda_runtime_cu12-12.4.127-py3-none-manylinux2014_x86_64.whl.metadata (1.5 kB)\n",
            "Collecting nvidia-cuda-cupti-cu12==12.4.127 (from torch>=2.0->transformers[ja,torch])\n",
            "  Downloading nvidia_cuda_cupti_cu12-12.4.127-py3-none-manylinux2014_x86_64.whl.metadata (1.6 kB)\n",
            "Collecting nvidia-cudnn-cu12==9.1.0.70 (from torch>=2.0->transformers[ja,torch])\n",
            "  Downloading nvidia_cudnn_cu12-9.1.0.70-py3-none-manylinux2014_x86_64.whl.metadata (1.6 kB)\n",
            "Collecting nvidia-cublas-cu12==12.4.5.8 (from torch>=2.0->transformers[ja,torch])\n",
            "  Downloading nvidia_cublas_cu12-12.4.5.8-py3-none-manylinux2014_x86_64.whl.metadata (1.5 kB)\n",
            "Collecting nvidia-cufft-cu12==11.2.1.3 (from torch>=2.0->transformers[ja,torch])\n",
            "  Downloading nvidia_cufft_cu12-11.2.1.3-py3-none-manylinux2014_x86_64.whl.metadata (1.5 kB)\n",
            "Collecting nvidia-curand-cu12==10.3.5.147 (from torch>=2.0->transformers[ja,torch])\n",
            "  Downloading nvidia_curand_cu12-10.3.5.147-py3-none-manylinux2014_x86_64.whl.metadata (1.5 kB)\n",
            "Collecting nvidia-cusolver-cu12==11.6.1.9 (from torch>=2.0->transformers[ja,torch])\n",
            "  Downloading nvidia_cusolver_cu12-11.6.1.9-py3-none-manylinux2014_x86_64.whl.metadata (1.6 kB)\n",
            "Collecting nvidia-cusparse-cu12==12.3.1.170 (from torch>=2.0->transformers[ja,torch])\n",
            "  Downloading nvidia_cusparse_cu12-12.3.1.170-py3-none-manylinux2014_x86_64.whl.metadata (1.6 kB)\n",
            "Requirement already satisfied: nvidia-cusparselt-cu12==0.6.2 in /usr/local/lib/python3.11/dist-packages (from torch>=2.0->transformers[ja,torch]) (0.6.2)\n",
            "Requirement already satisfied: nvidia-nccl-cu12==2.21.5 in /usr/local/lib/python3.11/dist-packages (from torch>=2.0->transformers[ja,torch]) (2.21.5)\n",
            "Requirement already satisfied: nvidia-nvtx-cu12==12.4.127 in /usr/local/lib/python3.11/dist-packages (from torch>=2.0->transformers[ja,torch]) (12.4.127)\n",
            "Collecting nvidia-nvjitlink-cu12==12.4.127 (from torch>=2.0->transformers[ja,torch])\n",
            "  Downloading nvidia_nvjitlink_cu12-12.4.127-py3-none-manylinux2014_x86_64.whl.metadata (1.5 kB)\n",
            "Requirement already satisfied: triton==3.2.0 in /usr/local/lib/python3.11/dist-packages (from torch>=2.0->transformers[ja,torch]) (3.2.0)\n",
            "Requirement already satisfied: sympy==1.13.1 in /usr/local/lib/python3.11/dist-packages (from torch>=2.0->transformers[ja,torch]) (1.13.1)\n",
            "Requirement already satisfied: mpmath<1.4,>=1.1.0 in /usr/local/lib/python3.11/dist-packages (from sympy==1.13.1->torch>=2.0->transformers[ja,torch]) (1.3.0)\n",
            "Collecting wasabi<1.0.0,>=0.6.0 (from unidic>=1.0.2->transformers[ja,torch])\n",
            "  Downloading wasabi-0.10.1-py3-none-any.whl.metadata (28 kB)\n",
            "Collecting plac<2.0.0,>=1.1.3 (from unidic>=1.0.2->transformers[ja,torch])\n",
            "  Downloading plac-1.4.5-py2.py3-none-any.whl.metadata (5.9 kB)\n",
            "Requirement already satisfied: pytz>=2020.1 in /usr/local/lib/python3.11/dist-packages (from pandas->datasets) (2025.2)\n",
            "Requirement already satisfied: tzdata>=2022.7 in /usr/local/lib/python3.11/dist-packages (from pandas->datasets) (2025.2)\n",
            "Requirement already satisfied: MarkupSafe>=2.0 in /usr/local/lib/python3.11/dist-packages (from jinja2->torch>=2.0->transformers[ja,torch]) (3.0.2)\n",
            "Downloading datasets-3.5.0-py3-none-any.whl (491 kB)\n",
            "\u001b[2K   \u001b[90m━━━━━━━━━━━━━━━━━━━━━━━━━━━━━━━━━━━━━━━━\u001b[0m \u001b[32m491.2/491.2 kB\u001b[0m \u001b[31m35.0 MB/s\u001b[0m eta \u001b[36m0:00:00\u001b[0m\n",
            "\u001b[?25hDownloading dill-0.3.8-py3-none-any.whl (116 kB)\n",
            "\u001b[2K   \u001b[90m━━━━━━━━━━━━━━━━━━━━━━━━━━━━━━━━━━━━━━━━\u001b[0m \u001b[32m116.3/116.3 kB\u001b[0m \u001b[31m10.8 MB/s\u001b[0m eta \u001b[36m0:00:00\u001b[0m\n",
            "\u001b[?25hDownloading fsspec-2024.12.0-py3-none-any.whl (183 kB)\n",
            "\u001b[2K   \u001b[90m━━━━━━━━━━━━━━━━━━━━━━━━━━━━━━━━━━━━━━━━\u001b[0m \u001b[32m183.9/183.9 kB\u001b[0m \u001b[31m16.0 MB/s\u001b[0m eta \u001b[36m0:00:00\u001b[0m\n",
            "\u001b[?25hDownloading fugashi-1.4.0-cp311-cp311-manylinux_2_17_x86_64.manylinux2014_x86_64.whl (698 kB)\n",
            "\u001b[2K   \u001b[90m━━━━━━━━━━━━━━━━━━━━━━━━━━━━━━━━━━━━━━━━\u001b[0m \u001b[32m698.0/698.0 kB\u001b[0m \u001b[31m40.3 MB/s\u001b[0m eta \u001b[36m0:00:00\u001b[0m\n",
            "\u001b[?25hDownloading multiprocess-0.70.16-py311-none-any.whl (143 kB)\n",
            "\u001b[2K   \u001b[90m━━━━━━━━━━━━━━━━━━━━━━━━━━━━━━━━━━━━━━━━\u001b[0m \u001b[32m143.5/143.5 kB\u001b[0m \u001b[31m13.1 MB/s\u001b[0m eta \u001b[36m0:00:00\u001b[0m\n",
            "\u001b[?25hDownloading rhoknp-1.3.0-py3-none-any.whl (86 kB)\n",
            "\u001b[2K   \u001b[90m━━━━━━━━━━━━━━━━━━━━━━━━━━━━━━━━━━━━━━━━\u001b[0m \u001b[32m86.8/86.8 kB\u001b[0m \u001b[31m5.0 MB/s\u001b[0m eta \u001b[36m0:00:00\u001b[0m\n",
            "\u001b[?25hDownloading SudachiDict_core-20250129-py3-none-any.whl (72.1 MB)\n",
            "\u001b[2K   \u001b[90m━━━━━━━━━━━━━━━━━━━━━━━━━━━━━━━━━━━━━━━━\u001b[0m \u001b[32m72.1/72.1 MB\u001b[0m \u001b[31m11.2 MB/s\u001b[0m eta \u001b[36m0:00:00\u001b[0m\n",
            "\u001b[?25hDownloading SudachiPy-0.6.10-cp311-cp311-manylinux_2_17_x86_64.manylinux2014_x86_64.whl (1.7 MB)\n",
            "\u001b[2K   \u001b[90m━━━━━━━━━━━━━━━━━━━━━━━━━━━━━━━━━━━━━━━━\u001b[0m \u001b[32m1.7/1.7 MB\u001b[0m \u001b[31m26.2 MB/s\u001b[0m eta \u001b[36m0:00:00\u001b[0m\n",
            "\u001b[?25hDownloading nvidia_cublas_cu12-12.4.5.8-py3-none-manylinux2014_x86_64.whl (363.4 MB)\n",
            "\u001b[2K   \u001b[90m━━━━━━━━━━━━━━━━━━━━━━━━━━━━━━━━━━━━━━━━\u001b[0m \u001b[32m363.4/363.4 MB\u001b[0m \u001b[31m2.9 MB/s\u001b[0m eta \u001b[36m0:00:00\u001b[0m\n",
            "\u001b[?25hDownloading nvidia_cuda_cupti_cu12-12.4.127-py3-none-manylinux2014_x86_64.whl (13.8 MB)\n",
            "\u001b[2K   \u001b[90m━━━━━━━━━━━━━━━━━━━━━━━━━━━━━━━━━━━━━━━━\u001b[0m \u001b[32m13.8/13.8 MB\u001b[0m \u001b[31m104.1 MB/s\u001b[0m eta \u001b[36m0:00:00\u001b[0m\n",
            "\u001b[?25hDownloading nvidia_cuda_nvrtc_cu12-12.4.127-py3-none-manylinux2014_x86_64.whl (24.6 MB)\n",
            "\u001b[2K   \u001b[90m━━━━━━━━━━━━━━━━━━━━━━━━━━━━━━━━━━━━━━━━\u001b[0m \u001b[32m24.6/24.6 MB\u001b[0m \u001b[31m85.6 MB/s\u001b[0m eta \u001b[36m0:00:00\u001b[0m\n",
            "\u001b[?25hDownloading nvidia_cuda_runtime_cu12-12.4.127-py3-none-manylinux2014_x86_64.whl (883 kB)\n",
            "\u001b[2K   \u001b[90m━━━━━━━━━━━━━━━━━━━━━━━━━━━━━━━━━━━━━━━━\u001b[0m \u001b[32m883.7/883.7 kB\u001b[0m \u001b[31m56.6 MB/s\u001b[0m eta \u001b[36m0:00:00\u001b[0m\n",
            "\u001b[?25hDownloading nvidia_cudnn_cu12-9.1.0.70-py3-none-manylinux2014_x86_64.whl (664.8 MB)\n",
            "\u001b[2K   \u001b[90m━━━━━━━━━━━━━━━━━━━━━━━━━━━━━━━━━━━━━━━━\u001b[0m \u001b[32m664.8/664.8 MB\u001b[0m \u001b[31m2.7 MB/s\u001b[0m eta \u001b[36m0:00:00\u001b[0m\n",
            "\u001b[?25hDownloading nvidia_cufft_cu12-11.2.1.3-py3-none-manylinux2014_x86_64.whl (211.5 MB)\n",
            "\u001b[2K   \u001b[90m━━━━━━━━━━━━━━━━━━━━━━━━━━━━━━━━━━━━━━━━\u001b[0m \u001b[32m211.5/211.5 MB\u001b[0m \u001b[31m6.1 MB/s\u001b[0m eta \u001b[36m0:00:00\u001b[0m\n",
            "\u001b[?25hDownloading nvidia_curand_cu12-10.3.5.147-py3-none-manylinux2014_x86_64.whl (56.3 MB)\n",
            "\u001b[2K   \u001b[90m━━━━━━━━━━━━━━━━━━━━━━━━━━━━━━━━━━━━━━━━\u001b[0m \u001b[32m56.3/56.3 MB\u001b[0m \u001b[31m12.0 MB/s\u001b[0m eta \u001b[36m0:00:00\u001b[0m\n",
            "\u001b[?25hDownloading nvidia_cusolver_cu12-11.6.1.9-py3-none-manylinux2014_x86_64.whl (127.9 MB)\n",
            "\u001b[2K   \u001b[90m━━━━━━━━━━━━━━━━━━━━━━━━━━━━━━━━━━━━━━━━\u001b[0m \u001b[32m127.9/127.9 MB\u001b[0m \u001b[31m7.4 MB/s\u001b[0m eta \u001b[36m0:00:00\u001b[0m\n",
            "\u001b[?25hDownloading nvidia_cusparse_cu12-12.3.1.170-py3-none-manylinux2014_x86_64.whl (207.5 MB)\n",
            "\u001b[2K   \u001b[90m━━━━━━━━━━━━━━━━━━━━━━━━━━━━━━━━━━━━━━━━\u001b[0m \u001b[32m207.5/207.5 MB\u001b[0m \u001b[31m5.6 MB/s\u001b[0m eta \u001b[36m0:00:00\u001b[0m\n",
            "\u001b[?25hDownloading nvidia_nvjitlink_cu12-12.4.127-py3-none-manylinux2014_x86_64.whl (21.1 MB)\n",
            "\u001b[2K   \u001b[90m━━━━━━━━━━━━━━━━━━━━━━━━━━━━━━━━━━━━━━━━\u001b[0m \u001b[32m21.1/21.1 MB\u001b[0m \u001b[31m92.2 MB/s\u001b[0m eta \u001b[36m0:00:00\u001b[0m\n",
            "\u001b[?25hDownloading xxhash-3.5.0-cp311-cp311-manylinux_2_17_x86_64.manylinux2014_x86_64.whl (194 kB)\n",
            "\u001b[2K   \u001b[90m━━━━━━━━━━━━━━━━━━━━━━━━━━━━━━━━━━━━━━━━\u001b[0m \u001b[32m194.8/194.8 kB\u001b[0m \u001b[31m18.7 MB/s\u001b[0m eta \u001b[36m0:00:00\u001b[0m\n",
            "\u001b[?25hDownloading plac-1.4.5-py2.py3-none-any.whl (22 kB)\n",
            "Downloading wasabi-0.10.1-py3-none-any.whl (26 kB)\n",
            "Building wheels for collected packages: japanize-matplotlib, ipadic, unidic, unidic-lite\n",
            "  Building wheel for japanize-matplotlib (setup.py) ... \u001b[?25l\u001b[?25hdone\n",
            "  Created wheel for japanize-matplotlib: filename=japanize_matplotlib-1.1.3-py3-none-any.whl size=4120257 sha256=4a0b062573b6d610a14a013f340f9f1476a6dde69687e3489c2fc363b772a455\n",
            "  Stored in directory: /root/.cache/pip/wheels/da/a1/71/b8faeb93276fed10edffcca20746f1ef6f8d9e071eee8425fc\n",
            "  Building wheel for ipadic (setup.py) ... \u001b[?25l\u001b[?25hdone\n",
            "  Created wheel for ipadic: filename=ipadic-1.0.0-py3-none-any.whl size=13556704 sha256=529dbadc649ee476495de60de2e5716d1361f9d451f1451918167532639487e7\n",
            "  Stored in directory: /root/.cache/pip/wheels/44/56/37/f543963822b85260c9f948df8fac8c20169c80dc71b24dc407\n",
            "  Building wheel for unidic (setup.py) ... \u001b[?25l\u001b[?25hdone\n",
            "  Created wheel for unidic: filename=unidic-1.1.0-py3-none-any.whl size=7403 sha256=4b2adccf8755e28b5a5277b6325cfb920513a5d4f35f961d384c9ecf108f4e30\n",
            "  Stored in directory: /root/.cache/pip/wheels/4c/c6/ae/d243f0d01ea936ab42ee7e820463dcb837079e73764060352d\n",
            "  Building wheel for unidic-lite (setup.py) ... \u001b[?25l\u001b[?25hdone\n",
            "  Created wheel for unidic-lite: filename=unidic_lite-1.0.8-py3-none-any.whl size=47658817 sha256=47e1cb4f461d5c0f77fc59552436f5b1534ce10613f23f8a951aada6c924d595\n",
            "  Stored in directory: /root/.cache/pip/wheels/b7/fd/e9/ea4459b868e6d2902e8d80e82dbacb6203e05b3b3a58c64966\n",
            "Successfully built japanize-matplotlib ipadic unidic unidic-lite\n",
            "Installing collected packages: wasabi, unidic-lite, sudachipy, plac, ipadic, xxhash, sudachidict-core, rhoknp, nvidia-nvjitlink-cu12, nvidia-curand-cu12, nvidia-cufft-cu12, nvidia-cuda-runtime-cu12, nvidia-cuda-nvrtc-cu12, nvidia-cuda-cupti-cu12, nvidia-cublas-cu12, fugashi, fsspec, dill, unidic, nvidia-cusparse-cu12, nvidia-cudnn-cu12, multiprocess, nvidia-cusolver-cu12, japanize-matplotlib, datasets\n",
            "  Attempting uninstall: wasabi\n",
            "    Found existing installation: wasabi 1.1.3\n",
            "    Uninstalling wasabi-1.1.3:\n",
            "      Successfully uninstalled wasabi-1.1.3\n",
            "  Attempting uninstall: nvidia-nvjitlink-cu12\n",
            "    Found existing installation: nvidia-nvjitlink-cu12 12.5.82\n",
            "    Uninstalling nvidia-nvjitlink-cu12-12.5.82:\n",
            "      Successfully uninstalled nvidia-nvjitlink-cu12-12.5.82\n",
            "  Attempting uninstall: nvidia-curand-cu12\n",
            "    Found existing installation: nvidia-curand-cu12 10.3.6.82\n",
            "    Uninstalling nvidia-curand-cu12-10.3.6.82:\n",
            "      Successfully uninstalled nvidia-curand-cu12-10.3.6.82\n",
            "  Attempting uninstall: nvidia-cufft-cu12\n",
            "    Found existing installation: nvidia-cufft-cu12 11.2.3.61\n",
            "    Uninstalling nvidia-cufft-cu12-11.2.3.61:\n",
            "      Successfully uninstalled nvidia-cufft-cu12-11.2.3.61\n",
            "  Attempting uninstall: nvidia-cuda-runtime-cu12\n",
            "    Found existing installation: nvidia-cuda-runtime-cu12 12.5.82\n",
            "    Uninstalling nvidia-cuda-runtime-cu12-12.5.82:\n",
            "      Successfully uninstalled nvidia-cuda-runtime-cu12-12.5.82\n",
            "  Attempting uninstall: nvidia-cuda-nvrtc-cu12\n",
            "    Found existing installation: nvidia-cuda-nvrtc-cu12 12.5.82\n",
            "    Uninstalling nvidia-cuda-nvrtc-cu12-12.5.82:\n",
            "      Successfully uninstalled nvidia-cuda-nvrtc-cu12-12.5.82\n",
            "  Attempting uninstall: nvidia-cuda-cupti-cu12\n",
            "    Found existing installation: nvidia-cuda-cupti-cu12 12.5.82\n",
            "    Uninstalling nvidia-cuda-cupti-cu12-12.5.82:\n",
            "      Successfully uninstalled nvidia-cuda-cupti-cu12-12.5.82\n",
            "  Attempting uninstall: nvidia-cublas-cu12\n",
            "    Found existing installation: nvidia-cublas-cu12 12.5.3.2\n",
            "    Uninstalling nvidia-cublas-cu12-12.5.3.2:\n",
            "      Successfully uninstalled nvidia-cublas-cu12-12.5.3.2\n",
            "  Attempting uninstall: fsspec\n",
            "    Found existing installation: fsspec 2025.3.2\n",
            "    Uninstalling fsspec-2025.3.2:\n",
            "      Successfully uninstalled fsspec-2025.3.2\n",
            "  Attempting uninstall: nvidia-cusparse-cu12\n",
            "    Found existing installation: nvidia-cusparse-cu12 12.5.1.3\n",
            "    Uninstalling nvidia-cusparse-cu12-12.5.1.3:\n",
            "      Successfully uninstalled nvidia-cusparse-cu12-12.5.1.3\n",
            "  Attempting uninstall: nvidia-cudnn-cu12\n",
            "    Found existing installation: nvidia-cudnn-cu12 9.3.0.75\n",
            "    Uninstalling nvidia-cudnn-cu12-9.3.0.75:\n",
            "      Successfully uninstalled nvidia-cudnn-cu12-9.3.0.75\n",
            "  Attempting uninstall: nvidia-cusolver-cu12\n",
            "    Found existing installation: nvidia-cusolver-cu12 11.6.3.83\n",
            "    Uninstalling nvidia-cusolver-cu12-11.6.3.83:\n",
            "      Successfully uninstalled nvidia-cusolver-cu12-11.6.3.83\n",
            "\u001b[31mERROR: pip's dependency resolver does not currently take into account all the packages that are installed. This behaviour is the source of the following dependency conflicts.\n",
            "gcsfs 2025.3.2 requires fsspec==2025.3.2, but you have fsspec 2024.12.0 which is incompatible.\u001b[0m\u001b[31m\n",
            "\u001b[0mSuccessfully installed datasets-3.5.0 dill-0.3.8 fsspec-2024.12.0 fugashi-1.4.0 ipadic-1.0.0 japanize-matplotlib-1.1.3 multiprocess-0.70.16 nvidia-cublas-cu12-12.4.5.8 nvidia-cuda-cupti-cu12-12.4.127 nvidia-cuda-nvrtc-cu12-12.4.127 nvidia-cuda-runtime-cu12-12.4.127 nvidia-cudnn-cu12-9.1.0.70 nvidia-cufft-cu12-11.2.1.3 nvidia-curand-cu12-10.3.5.147 nvidia-cusolver-cu12-11.6.1.9 nvidia-cusparse-cu12-12.3.1.170 nvidia-nvjitlink-cu12-12.4.127 plac-1.4.5 rhoknp-1.3.0 sudachidict-core-20250129 sudachipy-0.6.10 unidic-1.1.0 unidic-lite-1.0.8 wasabi-0.10.1 xxhash-3.5.0\n"
          ]
        }
      ],
      "source": [
        "!pip install transformers[ja,torch] datasets matplotlib japanize-matplotlib"
      ]
    },
    {
      "cell_type": "code",
      "execution_count": 2,
      "id": "f016fa8a",
      "metadata": {
        "id": "f016fa8a"
      },
      "outputs": [],
      "source": [
        "from transformers.trainer_utils import set_seed\n",
        "\n",
        "# 乱数シードを42に固定\n",
        "set_seed(42)"
      ]
    },
    {
      "cell_type": "markdown",
      "id": "5f09cfa2",
      "metadata": {
        "id": "5f09cfa2"
      },
      "source": [
        "### 5.2.2 データセットの準備"
      ]
    },
    {
      "cell_type": "code",
      "execution_count": 11,
      "id": "6d4ba4c0",
      "metadata": {
        "colab": {
          "base_uri": "https://localhost:8080/"
        },
        "id": "6d4ba4c0",
        "outputId": "959d91a4-3903-4759-b517-c2186667efd6"
      },
      "outputs": [
        {
          "output_type": "stream",
          "name": "stdout",
          "text": [
            "{'datetime': '2012/7/31 23:48',\n",
            " 'label': 1,\n",
            " 'sentence': 'ぼけっとしてたらこんな時間。チャリあるから食べにでたいのに…',\n",
            " 'user_id': 1}\n"
          ]
        }
      ],
      "source": [
        "from pprint import pprint\n",
        "from datasets import load_dataset\n",
        "\n",
        "# Hugging Face Hub上のllm-book/JGLUEのリポジトリから\n",
        "# MARC-jaのデータを読み込む\n",
        "train_dataset = load_dataset(\n",
        "    \"llm-book/wrime-sentiment\",\n",
        "    #\"llm-book/JGLUE\",\n",
        "    #name=\"MARC-ja\",\n",
        "    split=\"train\"\n",
        ")\n",
        "valid_dataset = load_dataset(\n",
        "    \"llm-book/wrime-sentiment\",\n",
        "    #\"llm-book/JGLUE\",\n",
        "    #name=\"MARC-ja\",\n",
        "    split=\"validation\"\n",
        ")\n",
        "# pprintで見やすく表示する\n",
        "pprint(train_dataset[0])"
      ]
    },
    {
      "cell_type": "code",
      "execution_count": 12,
      "id": "1a61ece7",
      "metadata": {
        "colab": {
          "base_uri": "https://localhost:8080/"
        },
        "id": "1a61ece7",
        "outputId": "f50a687f-1009-4ab8-879c-78dd3845c215"
      },
      "outputs": [
        {
          "output_type": "stream",
          "name": "stdout",
          "text": [
            "{'datetime': Value(dtype='string', id=None),\n",
            " 'label': ClassLabel(names=['positive', 'negative'], id=None),\n",
            " 'sentence': Value(dtype='string', id=None),\n",
            " 'user_id': Value(dtype='int64', id=None)}\n"
          ]
        }
      ],
      "source": [
        "pprint(train_dataset.features)"
      ]
    },
    {
      "cell_type": "markdown",
      "id": "615990b5",
      "metadata": {
        "id": "615990b5"
      },
      "source": [
        "### 5.2.3 トークナイザ"
      ]
    },
    {
      "cell_type": "code",
      "execution_count": 13,
      "id": "5bb39540",
      "metadata": {
        "colab": {
          "base_uri": "https://localhost:8080/",
          "height": 99,
          "referenced_widgets": [
            "1daf48e38a9c47f285a5e1d2029f225e",
            "bdb779373dc94b6b9a56481c7332bd1d",
            "acca064dbe4f4407a74d08fe4a63d579",
            "cde9e4ef45364909b4329042cd746382",
            "6ce11ecefd29494ca437554255452fe8",
            "72fef6ad562b4c7eae0b611706546ab2",
            "a30a09931e7c495a9caea97eb89fc4b9",
            "6089bf5f40144c1096c10a4b9f884480",
            "429df105fde24f20a310867f8bab61b2",
            "1473696eddfe4467a0bd374485151055",
            "5f9448302521456f8f874aab96e98ff3",
            "30a7ba80533e4cb280ab92f860261616",
            "679c7d39af25418d83d7d0501400d6c6",
            "9b33fd47902d419a87e6ffc4658eb163",
            "019d9a64bcd046cbbcdf09772cca3f2a",
            "6e5a7e245bfb4ca6baad4f4c8102b708",
            "42c5737a1fe84449a0e23dac832d48f9",
            "d550e933a0ea407ab8f65211fb142213",
            "4f327a5fdfd5485e86f42ad666509265",
            "9fb861d5c5bc46e0b61d4a82650e1a9e",
            "252d47530a794a8eae8e73688275c01c",
            "1a68a498de0b4868abbbc1709664eb17"
          ]
        },
        "id": "5bb39540",
        "outputId": "9177e5cf-eb61-4964-b395-99c0515e8bf3"
      },
      "outputs": [
        {
          "output_type": "display_data",
          "data": {
            "text/plain": [
              "tokenizer_config.json:   0%|          | 0.00/251 [00:00<?, ?B/s]"
            ],
            "application/vnd.jupyter.widget-view+json": {
              "version_major": 2,
              "version_minor": 0,
              "model_id": "1daf48e38a9c47f285a5e1d2029f225e"
            }
          },
          "metadata": {}
        },
        {
          "output_type": "display_data",
          "data": {
            "text/plain": [
              "vocab.txt:   0%|          | 0.00/231k [00:00<?, ?B/s]"
            ],
            "application/vnd.jupyter.widget-view+json": {
              "version_major": 2,
              "version_minor": 0,
              "model_id": "30a7ba80533e4cb280ab92f860261616"
            }
          },
          "metadata": {}
        },
        {
          "output_type": "stream",
          "name": "stdout",
          "text": [
            "BertJapaneseTokenizer\n"
          ]
        }
      ],
      "source": [
        "from transformers import AutoTokenizer\n",
        "\n",
        "# Hugging Face Hub上のモデル名を指定\n",
        "model_name = \"cl-tohoku/bert-base-japanese-v3\"\n",
        "# モデル名からトークナイザを読み込む\n",
        "tokenizer = AutoTokenizer.from_pretrained(model_name)\n",
        "# トークナイザのクラス名を確認\n",
        "print(type(tokenizer).__name__)"
      ]
    },
    {
      "cell_type": "code",
      "execution_count": 14,
      "id": "99db6435",
      "metadata": {
        "colab": {
          "base_uri": "https://localhost:8080/"
        },
        "id": "99db6435",
        "outputId": "9043dc67-811e-49f9-b836-7048d7ae97a1"
      },
      "outputs": [
        {
          "output_type": "execute_result",
          "data": {
            "text/plain": [
              "['これ', 'は', 'テスト', 'です', '。']"
            ]
          },
          "metadata": {},
          "execution_count": 14
        }
      ],
      "source": [
        "tokenizer.tokenize(\"これはテストです。\")"
      ]
    },
    {
      "cell_type": "code",
      "execution_count": 15,
      "id": "a4300d90",
      "metadata": {
        "colab": {
          "base_uri": "https://localhost:8080/"
        },
        "id": "a4300d90",
        "outputId": "e2c3ad6f-43b7-4c07-d919-2333d80f10e6"
      },
      "outputs": [
        {
          "output_type": "stream",
          "name": "stdout",
          "text": [
            "BatchEncoding\n"
          ]
        }
      ],
      "source": [
        "encoded_input = tokenizer(\"これはテストです。\")\n",
        "# 出力されたオブジェクトのクラスを表示\n",
        "print(type(encoded_input).__name__)"
      ]
    },
    {
      "cell_type": "code",
      "execution_count": 16,
      "id": "2aebd3c8",
      "metadata": {
        "colab": {
          "base_uri": "https://localhost:8080/"
        },
        "id": "2aebd3c8",
        "outputId": "0471f86c-1d5e-4ce0-8c72-bddef0ac2a39"
      },
      "outputs": [
        {
          "output_type": "stream",
          "name": "stdout",
          "text": [
            "{'attention_mask': [1, 1, 1, 1, 1, 1, 1],\n",
            " 'input_ids': [2, 12538, 465, 14985, 13037, 385, 3],\n",
            " 'token_type_ids': [0, 0, 0, 0, 0, 0, 0]}\n"
          ]
        }
      ],
      "source": [
        "pprint(encoded_input)"
      ]
    },
    {
      "cell_type": "code",
      "execution_count": 17,
      "id": "27af9b91",
      "metadata": {
        "colab": {
          "base_uri": "https://localhost:8080/"
        },
        "id": "27af9b91",
        "outputId": "32af7cc2-2888-41c1-9d2a-65bb7e8795e6"
      },
      "outputs": [
        {
          "output_type": "execute_result",
          "data": {
            "text/plain": [
              "['[CLS]', 'これ', 'は', 'テスト', 'です', '。', '[SEP]']"
            ]
          },
          "metadata": {},
          "execution_count": 17
        }
      ],
      "source": [
        "tokenizer.convert_ids_to_tokens(encoded_input[\"input_ids\"])"
      ]
    },
    {
      "cell_type": "markdown",
      "id": "c4574c3d",
      "metadata": {
        "id": "c4574c3d"
      },
      "source": [
        "### 5.2.4 データセット統計の可視化"
      ]
    },
    {
      "cell_type": "code",
      "execution_count": 18,
      "id": "743767a1",
      "metadata": {
        "colab": {
          "base_uri": "https://localhost:8080/",
          "height": 957
        },
        "id": "743767a1",
        "outputId": "ac9c2289-d707-440d-e952-16935eb23543"
      },
      "outputs": [
        {
          "output_type": "stream",
          "name": "stderr",
          "text": [
            "100%|██████████| 20149/20149 [00:05<00:00, 3864.21it/s]\n"
          ]
        },
        {
          "output_type": "display_data",
          "data": {
            "text/plain": [
              "<Figure size 640x480 with 1 Axes>"
            ],
            "image/png": "[encoded data removed]"
          },
          "metadata": {}
        },
        {
          "output_type": "stream",
          "name": "stderr",
          "text": [
            "100%|██████████| 1608/1608 [00:00<00:00, 2748.24it/s]\n"
          ]
        },
        {
          "output_type": "display_data",
          "data": {
            "text/plain": [
              "<Figure size 640x480 with 1 Axes>"
            ],
            "image/png": "[encoded data removed]"
          },
          "metadata": {}
        }
      ],
      "source": [
        "from collections import Counter\n",
        "import japanize_matplotlib\n",
        "import matplotlib.pyplot as plt\n",
        "from datasets import Dataset\n",
        "from tqdm import tqdm\n",
        "\n",
        "plt.rcParams[\"font.size\"] = 18  # 文字サイズを大きくする\n",
        "\n",
        "def visualize_text_length(dataset: Dataset):\n",
        "    \"\"\"データセット中のテキストのトークン数の分布をグラフとして描画\"\"\"\n",
        "    # データセット中のテキストの長さを数える\n",
        "    length_counter = Counter()\n",
        "    for data in tqdm(dataset):\n",
        "        length = len(tokenizer.tokenize(data[\"sentence\"]))\n",
        "        length_counter[length] += 1\n",
        "    # length_counterの値から棒グラフを描画する\n",
        "    plt.bar(length_counter.keys(), length_counter.values(), width=1.0)\n",
        "    plt.xlabel(\"トークン数\")\n",
        "    plt.ylabel(\"事例数\")\n",
        "    plt.show()\n",
        "\n",
        "visualize_text_length(train_dataset)\n",
        "visualize_text_length(valid_dataset)"
      ]
    },
    {
      "cell_type": "code",
      "execution_count": 19,
      "id": "b17cd6f0",
      "metadata": {
        "colab": {
          "base_uri": "https://localhost:8080/"
        },
        "id": "b17cd6f0",
        "outputId": "465b6071-7cf5-402b-b3a1-51eaf97ebe43"
      },
      "outputs": [
        {
          "output_type": "stream",
          "name": "stdout",
          "text": [
            "{'datetime': '2020/5/15 17:35',\n",
            " 'label': 1,\n",
            " 'sentence': 'よくわからない連携。',\n",
            " 'user_id': 26}\n",
            "{'datetime': '2020/5/15 17:47',\n",
            " 'label': 1,\n",
            " 'sentence': 'この3年が無駄になった。',\n",
            " 'user_id': 26}\n",
            "{'datetime': '2020/5/15 17:48',\n",
            " 'label': 1,\n",
            " 'sentence': '空気を読んでなくて。',\n",
            " 'user_id': 26}\n",
            "{'datetime': '2020/5/15 17:52',\n",
            " 'label': 1,\n",
            " 'sentence': 'っていうか、英語の聞きすぎ',\n",
            " 'user_id': 26}\n",
            "{'datetime': '2020/5/18 16:31',\n",
            " 'label': 0,\n",
            " 'sentence': '明日は楽しみかも。',\n",
            " 'user_id': 26}\n",
            "{'datetime': '2020/5/19 11:55',\n",
            " 'label': 1,\n",
            " 'sentence': '今日は誤字だらけ。',\n",
            " 'user_id': 26}\n",
            "{'datetime': '2020/5/21 8:29',\n",
            " 'label': 0,\n",
            " 'sentence': 'SUNがいいなと思った。',\n",
            " 'user_id': 26}\n",
            "{'datetime': '2020/5/5 6:50',\n",
            " 'label': 0,\n",
            " 'sentence': 'わさび醤油、結構合う。',\n",
            " 'user_id': 28}\n",
            "{'datetime': '2020/5/6 6:13',\n",
            " 'label': 1,\n",
            " 'sentence': '朝から本当に腹立たしい。',\n",
            " 'user_id': 28}\n",
            "{'datetime': '2020/5/6 6:27',\n",
            " 'label': 1,\n",
            " 'sentence': 'しかも本人は反省の色なし',\n",
            " 'user_id': 28}\n",
            "{'datetime': '2020/5/6 8:18', 'label': 1, 'sentence': '書けない', 'user_id': 28}\n",
            "{'datetime': '2020/3/2 19:32',\n",
            " 'label': 1,\n",
            " 'sentence': 'タバコ吸ってるやつ全員死んでほしい',\n",
            " 'user_id': 33}\n",
            "{'datetime': '2020/3/24 20:00', 'label': 1, 'sentence': '詐欺じゃん。', 'user_id': 33}\n",
            "{'datetime': '2020/4/7 14:27',\n",
            " 'label': 1,\n",
            " 'sentence': '全員死んでください',\n",
            " 'user_id': 33}\n",
            "{'datetime': '2013/9/25 22:16',\n",
            " 'label': 1,\n",
            " 'sentence': 'あの高音安定してだせん',\n",
            " 'user_id': 37}\n",
            "{'datetime': '2013/9/26 0:06', 'label': 0, 'sentence': '携帯復活', 'user_id': 37}\n",
            "{'datetime': '2013/9/26 0:33',\n",
            " 'label': 0,\n",
            " 'sentence': 'あー最近バレエ熱やばい',\n",
            " 'user_id': 37}\n",
            "{'datetime': '2013/9/29 21:07', 'label': 0, 'sentence': '相葉さーん', 'user_id': 37}\n",
            "{'datetime': '2013/9/29 21:28',\n",
            " 'label': 0,\n",
            " 'sentence': '相葉さん残ってらっしゃる',\n",
            " 'user_id': 37}\n",
            "{'datetime': '2013/9/29 21:31',\n",
            " 'label': 0,\n",
            " 'sentence': 'ピカチュウ様は永遠',\n",
            " 'user_id': 37}\n",
            "{'datetime': '2013/9/29 21:40',\n",
            " 'label': 0,\n",
            " 'sentence': 'ばっちいいいいいいいい！',\n",
            " 'user_id': 37}\n",
            "{'datetime': '2013/10/5 15:54',\n",
            " 'label': 0,\n",
            " 'sentence': '何これ。メンツ豪華すぎる',\n",
            " 'user_id': 37}\n",
            "{'datetime': '2013/10/6 21:36',\n",
            " 'label': 0,\n",
            " 'sentence': '王子！王子！王子！',\n",
            " 'user_id': 37}\n",
            "{'datetime': '2013/10/9 22:41',\n",
            " 'label': 1,\n",
            " 'sentence': '突発的にキャパ越え起こした',\n",
            " 'user_id': 37}\n",
            "{'datetime': '2013/10/9 22:42',\n",
            " 'label': 1,\n",
            " 'sentence': 'ちょっと辛いのです',\n",
            " 'user_id': 37}\n",
            "{'datetime': '2013/10/27 8:08',\n",
            " 'label': 0,\n",
            " 'sentence': 'ニートかwwww',\n",
            " 'user_id': 37}\n",
            "{'datetime': '2013/10/27 8:16',\n",
            " 'label': 0,\n",
            " 'sentence': '豊さんがテレビで見れて幸せです',\n",
            " 'user_id': 37}\n",
            "{'datetime': '2013/10/27 8:20',\n",
            " 'label': 0,\n",
            " 'sentence': 'おいザックさん笑ってたぞwww',\n",
            " 'user_id': 37}\n",
            "{'datetime': '2013/10/27 8:23',\n",
            " 'label': 0,\n",
            " 'sentence': '薔薇wwwwwwwwww',\n",
            " 'user_id': 37}\n",
            "{'datetime': '2013/10/27 8:24',\n",
            " 'label': 0,\n",
            " 'sentence': '草がとても生えるwwwww',\n",
            " 'user_id': 37}\n",
            "{'datetime': '2013/10/27 8:34',\n",
            " 'label': 1,\n",
            " 'sentence': 'ミッチー死にそう',\n",
            " 'user_id': 37}\n",
            "{'datetime': '2013/10/27 8:36',\n",
            " 'label': 0,\n",
            " 'sentence': 'いやあ久保田かっこいいわ',\n",
            " 'user_id': 37}\n",
            "{'datetime': '2013/10/27 8:37',\n",
            " 'label': 0,\n",
            " 'sentence': 'メロンはかっこよかった',\n",
            " 'user_id': 37}\n",
            "{'datetime': '2013/11/5 20:39',\n",
            " 'label': 1,\n",
            " 'sentence': 'すいまでんでした',\n",
            " 'user_id': 37}\n",
            "{'datetime': '2013/11/8 1:28',\n",
            " 'label': 1,\n",
            " 'sentence': 'きらわれてるじゃないかと辛い',\n",
            " 'user_id': 37}\n",
            "{'datetime': '2013/11/8 3:56',\n",
            " 'label': 0,\n",
            " 'sentence': '折角良い環境にいるのですから',\n",
            " 'user_id': 37}\n",
            "{'datetime': '2013/11/18 16:45',\n",
            " 'label': 0,\n",
            " 'sentence': 'フワンテとタツベイも育てるか',\n",
            " 'user_id': 37}\n",
            "{'datetime': '2013/11/20 17:07',\n",
            " 'label': 0,\n",
            " 'sentence': '久しぶりだああ',\n",
            " 'user_id': 37}\n",
            "{'datetime': '2013/12/4 0:31', 'label': 0, 'sentence': 'あー四天楽しみ', 'user_id': 37}\n",
            "{'datetime': '2013/12/4 0:33',\n",
            " 'label': 1,\n",
            " 'sentence': '本当に体動かんくてつらい',\n",
            " 'user_id': 37}\n",
            "{'datetime': '2013/12/4 0:35',\n",
            " 'label': 1,\n",
            " 'sentence': '関東にいるからなあ私だけ',\n",
            " 'user_id': 37}\n",
            "{'datetime': '2013/12/7 2:18',\n",
            " 'label': 1,\n",
            " 'sentence': 'そりゃあ罰も当たりますよ',\n",
            " 'user_id': 37}\n",
            "{'datetime': '2013/12/7 2:19',\n",
            " 'label': 1,\n",
            " 'sentence': 'すみませんでした',\n",
            " 'user_id': 37}\n",
            "{'datetime': '2013/12/7 2:19',\n",
            " 'label': 1,\n",
            " 'sentence': 'どうすれば反省が伝わるだろうか',\n",
            " 'user_id': 37}\n",
            "{'datetime': '2013/12/7 2:20',\n",
            " 'label': 1,\n",
            " 'sentence': 'お経くらい覚えるか…',\n",
            " 'user_id': 37}\n",
            "{'datetime': '2013/12/7 2:21',\n",
            " 'label': 1,\n",
            " 'sentence': '涙とまんない....',\n",
            " 'user_id': 37}\n",
            "{'datetime': '2013/12/7 2:22',\n",
            " 'label': 1,\n",
            " 'sentence': 'この時期はこれだから',\n",
            " 'user_id': 37}\n",
            "{'datetime': '2013/12/10 23:09',\n",
            " 'label': 0,\n",
            " 'sentence': 'ブレイブリーデフォルト楽しい',\n",
            " 'user_id': 37}\n",
            "{'datetime': '2013/12/30 18:23',\n",
            " 'label': 0,\n",
            " 'sentence': 'PS3欲しいお…',\n",
            " 'user_id': 37}\n",
            "{'datetime': '2013/12/30 23:57',\n",
            " 'label': 0,\n",
            " 'sentence': '明日は歴史的な日ですぞ！',\n",
            " 'user_id': 37}\n",
            "{'datetime': '2013/12/31 3:38',\n",
            " 'label': 0,\n",
            " 'sentence': '未だにクロウ熱は再熱を繰り返す',\n",
            " 'user_id': 37}\n",
            "{'datetime': '2013/12/31 3:46',\n",
            " 'label': 0,\n",
            " 'sentence': 'クロウさんの遠回復は萌えポイント',\n",
            " 'user_id': 37}\n",
            "{'datetime': '2014/1/6 8:07',\n",
            " 'label': 1,\n",
            " 'sentence': 'ふざけるなよじじい',\n",
            " 'user_id': 37}\n",
            "{'datetime': '2014/1/6 21:32', 'label': 1, 'sentence': '腹はいたい。', 'user_id': 37}\n",
            "{'datetime': '2014/1/16 18:22',\n",
            " 'label': 0,\n",
            " 'sentence': '真田十勇士いってきます！',\n",
            " 'user_id': 37}\n",
            "{'datetime': '2014/2/7 2:29',\n",
            " 'label': 0,\n",
            " 'sentence': 'FEでこれは感動...',\n",
            " 'user_id': 37}\n",
            "{'datetime': '2014/2/7 2:29',\n",
            " 'label': 0,\n",
            " 'sentence': 'ふおおおおムービー綺麗！',\n",
            " 'user_id': 37}\n",
            "{'datetime': '2014/2/9 11:29',\n",
            " 'label': 0,\n",
            " 'sentence': '四天昼公演いってきます！',\n",
            " 'user_id': 37}\n",
            "{'datetime': '2014/6/22 15:28',\n",
            " 'label': 0,\n",
            " 'sentence': 'すごい楽しそうだった',\n",
            " 'user_id': 37}\n",
            "{'datetime': '2020/10/28 15:10',\n",
            " 'label': 0,\n",
            " 'sentence': '旅に出たいなあ。',\n",
            " 'user_id': 56}\n",
            "{'datetime': '2020/10/28 17:01',\n",
            " 'label': 1,\n",
            " 'sentence': '執行猶予が伸びました。',\n",
            " 'user_id': 56}\n",
            "{'datetime': '2020/7/10 20:26', 'label': 1, 'sentence': 'クソツイ削除', 'user_id': 62}\n",
            "{'datetime': '2020/7/15 0:41',\n",
            " 'label': 1,\n",
            " 'sentence': '不敬ツイート削除',\n",
            " 'user_id': 62}\n",
            "{'datetime': '2020/7/18 5:30',\n",
            " 'label': 1,\n",
            " 'sentence': 'キモツイート削除',\n",
            " 'user_id': 62}\n",
            "{'datetime': '2020/7/21 18:15',\n",
            " 'label': 0,\n",
            " 'sentence': 'ツイッター早朝部〜 いくわよ！！',\n",
            " 'user_id': 62}\n",
            "{'datetime': '2020/8/21 2:34', 'label': 1, 'sentence': 'たすけて〜〜〜', 'user_id': 62}\n",
            "{'datetime': '2020/8/23 4:49',\n",
            " 'label': 0,\n",
            " 'sentence': 'フォロワーと無事会えた',\n",
            " 'user_id': 62}\n",
            "{'datetime': '2020/8/30 7:03',\n",
            " 'label': 0,\n",
            " 'sentence': 'ツイッター早朝部、いくわよ！！',\n",
            " 'user_id': 62}\n",
            "{'datetime': '2020/9/1 22:35',\n",
            " 'label': 1,\n",
            " 'sentence': 'テストへのモチベ/zero',\n",
            " 'user_id': 62}\n",
            "{'datetime': '2020/9/6 3:36',\n",
            " 'label': 1,\n",
            " 'sentence': 'オレってどうすればE？',\n",
            " 'user_id': 62}\n",
            "{'datetime': '2020/9/16 2:13', 'label': 1, 'sentence': 'うつ病', 'user_id': 62}\n",
            "{'datetime': '2020/9/27 4:32',\n",
            " 'label': 0,\n",
            " 'sentence': 'ツイッター早朝部、いくわよ！！',\n",
            " 'user_id': 62}\n",
            "{'datetime': '2020/10/1 1:18', 'label': 1, 'sentence': 'オエー', 'user_id': 62}\n",
            "{'datetime': '2020/10/1 15:03',\n",
            " 'label': 1,\n",
            " 'sentence': 'クソメールを送ってしまった',\n",
            " 'user_id': 62}\n",
            "{'datetime': '2020/10/7 6:24',\n",
            " 'label': 0,\n",
            " 'sentence': 'ツイッター早朝部、いくわよ！！',\n",
            " 'user_id': 62}\n",
            "{'datetime': '2020/10/8 10:04',\n",
            " 'label': 1,\n",
            " 'sentence': 'わたしってどうすればE？',\n",
            " 'user_id': 62}\n",
            "{'datetime': '2020/10/11 12:57',\n",
            " 'label': 1,\n",
            " 'sentence': 'た、タスケテ〜',\n",
            " 'user_id': 62}\n",
            "{'datetime': '2020/10/14 17:40',\n",
            " 'label': 0,\n",
            " 'sentence': 'ツイッター早朝部、いくわよ！！',\n",
            " 'user_id': 62}\n",
            "{'datetime': '2020/10/23 3:20',\n",
            " 'label': 1,\n",
            " 'sentence': '人間仮免試験落ちた',\n",
            " 'user_id': 62}\n",
            "{'datetime': '2020/10/24 8:57',\n",
            " 'label': 0,\n",
            " 'sentence': 'かにパルサーさん生き返ったな',\n",
            " 'user_id': 62}\n",
            "{'datetime': '2020/10/25 5:23',\n",
            " 'label': 0,\n",
            " 'sentence': 'ツイッター早朝部、いくわよ！！',\n",
            " 'user_id': 62}\n",
            "{'datetime': '2020/6/13 9:43',\n",
            " 'label': 0,\n",
            " 'sentence': '旅に出たい。\\n\\n',\n",
            " 'user_id': 63}\n",
            "{'datetime': '2020/8/11 23:59',\n",
            " 'label': 1,\n",
            " 'sentence': 'とかくこの世は生きづらい。\\n\\n',\n",
            " 'user_id': 63}\n",
            "{'datetime': '2020/9/20 12:28',\n",
            " 'label': 0,\n",
            " 'sentence': 'ブルーハーツが好きです',\n",
            " 'user_id': 63}\n",
            "{'datetime': '2020/9/28 21:19',\n",
            " 'label': 0,\n",
            " 'sentence': '今日Gardenに帰ります！\\n\\n',\n",
            " 'user_id': 63}\n",
            "{'datetime': '2020/10/26 2:54',\n",
            " 'label': 1,\n",
            " 'sentence': 'あかん完全に昼夜逆転してる\\n\\n',\n",
            " 'user_id': 63}\n",
            "{'datetime': '2019/8/31 10:03',\n",
            " 'label': 0,\n",
            " 'sentence': '美しいものを摂取しないと。',\n",
            " 'user_id': 75}\n",
            "{'datetime': '2019/9/2 23:59',\n",
            " 'label': 0,\n",
            " 'sentence': '洋楽ではMIKAが好き',\n",
            " 'user_id': 75}\n",
            "{'datetime': '2019/9/24 23:42',\n",
            " 'label': 1,\n",
            " 'sentence': '猫アレルギーにとっては地獄だな',\n",
            " 'user_id': 75}\n",
            "{'datetime': '2019/9/25 14:21',\n",
            " 'label': 1,\n",
            " 'sentence': '確実に狂ってるなぁって。',\n",
            " 'user_id': 75}\n",
            "{'datetime': '2019/10/4 14:46',\n",
            " 'label': 0,\n",
            " 'sentence': '月見は今日はケーキ焼きチャレンジです',\n",
            " 'user_id': 75}\n",
            "{'datetime': '2019/10/12 18:24',\n",
            " 'label': 1,\n",
            " 'sentence': '踏んだり蹴ったりじゃないですか',\n",
            " 'user_id': 75}\n",
            "{'datetime': '2019/10/18 22:03',\n",
            " 'label': 0,\n",
            " 'sentence': '吉四六さん好きだったな',\n",
            " 'user_id': 75}\n",
            "{'datetime': '2019/12/15 12:33',\n",
            " 'label': 1,\n",
            " 'sentence': 'コメダ近くにないな…',\n",
            " 'user_id': 75}\n",
            "{'datetime': '2019/12/16 13:30',\n",
            " 'label': 0,\n",
            " 'sentence': 'ラブホ女子会楽しげ',\n",
            " 'user_id': 75}\n",
            "{'datetime': '2019/12/29 23:06',\n",
            " 'label': 0,\n",
            " 'sentence': '嬉しかったのでスクショした',\n",
            " 'user_id': 75}\n",
            "{'datetime': '2020/1/7 21:54',\n",
            " 'label': 0,\n",
            " 'sentence': 'れんこんの天ぷら好き',\n",
            " 'user_id': 75}\n",
            "{'datetime': '2020/1/8 13:30',\n",
            " 'label': 0,\n",
            " 'sentence': 'ハリネズミかわいいよね…',\n",
            " 'user_id': 75}\n",
            "{'datetime': '2020/1/13 16:38',\n",
            " 'label': 0,\n",
            " 'sentence': '白系統の柔らかい色好き',\n",
            " 'user_id': 75}\n",
            "{'datetime': '2020/1/28 19:21',\n",
            " 'label': 1,\n",
            " 'sentence': 'ワ、新型ウイルス関西に…',\n",
            " 'user_id': 75}\n",
            "{'datetime': '2020/1/30 20:17', 'label': 0, 'sentence': '推しが可愛い', 'user_id': 75}\n",
            "{'datetime': '2020/2/3 8:46',\n",
            " 'label': 0,\n",
            " 'sentence': 'サスペンダーって良いよね。',\n",
            " 'user_id': 75}\n",
            "{'datetime': '2020/2/18 18:27',\n",
            " 'label': 0,\n",
            " 'sentence': 'YANKEE推しわかる',\n",
            " 'user_id': 75}\n",
            "{'datetime': '2020/3/6 8:24',\n",
            " 'label': 1,\n",
            " 'sentence': '身体が最近バキバキ',\n",
            " 'user_id': 75}\n",
            "{'datetime': '2020/4/14 0:42', 'label': 0, 'sentence': '玄米茶が好き', 'user_id': 75}\n",
            "{'datetime': '2020/4/26 18:54',\n",
            " 'label': 0,\n",
            " 'sentence': 'アメリ良いですよね…',\n",
            " 'user_id': 75}\n",
            "{'datetime': '2020/5/5 16:32',\n",
            " 'label': 1,\n",
            " 'sentence': 'ちょっとベッド破壊してました。',\n",
            " 'user_id': 75}\n",
            "{'datetime': '2020/5/19 21:24',\n",
            " 'label': 0,\n",
            " 'sentence': '鮭のムニエルって美味しい',\n",
            " 'user_id': 75}\n",
            "{'datetime': '2020/5/19 23:17',\n",
            " 'label': 0,\n",
            " 'sentence': '指の綺麗な人は憧れ',\n",
            " 'user_id': 75}\n",
            "{'datetime': '2020/5/24 0:54',\n",
            " 'label': 1,\n",
            " 'sentence': '漫画読んでたらこんな時間ですよ',\n",
            " 'user_id': 75}\n",
            "{'datetime': '2020/5/26 13:23',\n",
            " 'label': 1,\n",
            " 'sentence': '眠くてブチ切れそう\\u3000切れない',\n",
            " 'user_id': 75}\n",
            "{'datetime': '2020/5/27 0:51',\n",
            " 'label': 0,\n",
            " 'sentence': 'えるれ、好きです',\n",
            " 'user_id': 75}\n",
            "{'datetime': '2020/6/8 18:15',\n",
            " 'label': 1,\n",
            " 'sentence': 'なんかずっと気分悪いのよね',\n",
            " 'user_id': 75}\n",
            "{'datetime': '2020/6/18 21:11',\n",
            " 'label': 1,\n",
            " 'sentence': 'カレーパン最近食べてないなぁ',\n",
            " 'user_id': 75}\n",
            "{'datetime': '2020/6/30 8:21',\n",
            " 'label': 1,\n",
            " 'sentence': '腹が筋肉痛ですわ',\n",
            " 'user_id': 75}\n",
            "{'datetime': '2020/7/23 0:40', 'label': 0, 'sentence': 'Kawaii', 'user_id': 75}\n",
            "{'datetime': '2020/7/27 10:02',\n",
            " 'label': 1,\n",
            " 'sentence': 'フォロワー怖いわぁ',\n",
            " 'user_id': 75}\n",
            "{'datetime': '2020/7/27 16:20',\n",
            " 'label': 1,\n",
            " 'sentence': 'とうとうほんだに勝てなかった',\n",
            " 'user_id': 75}\n",
            "{'datetime': '2020/7/30 9:49',\n",
            " 'label': 0,\n",
            " 'sentence': '誤報ならまぁ、良かったね',\n",
            " 'user_id': 75}\n",
            "{'datetime': '2020/7/30 23:03',\n",
            " 'label': 0,\n",
            " 'sentence': '映画観た\\u3000happy',\n",
            " 'user_id': 75}\n",
            "{'datetime': '2020/9/12 23:39',\n",
            " 'label': 1,\n",
            " 'sentence': 'Twitter仕様が使いにくくなってて',\n",
            " 'user_id': 75}\n",
            "{'datetime': '2020/9/25 7:39',\n",
            " 'label': 1,\n",
            " 'sentence': 'ゴミ出しの日の雨は許さない',\n",
            " 'user_id': 75}\n",
            "{'datetime': '2020/10/5 22:02',\n",
            " 'label': 1,\n",
            " 'sentence': '他人と一緒も楽しいけど疲れるし',\n",
            " 'user_id': 75}\n",
            "{'datetime': '2020/10/14 17:57',\n",
            " 'label': 1,\n",
            " 'sentence': '睡魔さん飛んでけ',\n",
            " 'user_id': 75}\n",
            "{'datetime': '2020/10/16 10:25',\n",
            " 'label': 1,\n",
            " 'sentence': 'あ？画像欄もぶっこわ',\n",
            " 'user_id': 75}\n",
            "{'datetime': '2020/10/17 0:54',\n",
            " 'label': 0,\n",
            " 'sentence': 'かわいいダイレクトアタック',\n",
            " 'user_id': 75}\n",
            "{'datetime': '2020/10/21 7:18',\n",
            " 'label': 1,\n",
            " 'sentence': '喉がパリパリって感じ',\n",
            " 'user_id': 75}\n",
            "{'datetime': '2018/4/30 9:32', 'label': 0, 'sentence': '無事、帰国。', 'user_id': 80}\n",
            "{'datetime': '2018/11/3 15:31',\n",
            " 'label': 0,\n",
            " 'sentence': '早く東京に行きたいな',\n",
            " 'user_id': 80}\n",
            "{'datetime': '2019/4/16 20:54',\n",
            " 'label': 0,\n",
            " 'sentence': 'レッスンが、楽しい',\n",
            " 'user_id': 80}\n",
            "{'datetime': '2019/5/11 8:51',\n",
            " 'label': 0,\n",
            " 'sentence': 'ちょいとフィンランド行ってきます',\n",
            " 'user_id': 80}\n",
            "{'datetime': '2019/9/10 19:29',\n",
            " 'label': 0,\n",
            " 'sentence': 'おー渋滞抜けたー',\n",
            " 'user_id': 80}\n",
            "{'datetime': '2020/7/18 15:31', 'label': 1, 'sentence': 'な…そんな…', 'user_id': 80}\n"
          ]
        }
      ],
      "source": [
        "for data in valid_dataset:\n",
        "    if len(tokenizer.tokenize(data[\"sentence\"])) < 10:\n",
        "        pprint(data)"
      ]
    },
    {
      "cell_type": "code",
      "execution_count": 20,
      "id": "42c7f3ba",
      "metadata": {
        "colab": {
          "base_uri": "https://localhost:8080/",
          "height": 921
        },
        "id": "42c7f3ba",
        "outputId": "e977a2a0-700e-47e1-ae18-cfcb41a5aa5a"
      },
      "outputs": [
        {
          "output_type": "display_data",
          "data": {
            "text/plain": [
              "<Figure size 640x480 with 1 Axes>"
            ],
            "image/png": "[encoded data removed]"
          },
          "metadata": {}
        },
        {
          "output_type": "display_data",
          "data": {
            "text/plain": [
              "<Figure size 640x480 with 1 Axes>"
            ],
            "image/png": "[encoded data removed]"
          },
          "metadata": {}
        }
      ],
      "source": [
        "def visualize_labels(dataset: Dataset):\n",
        "    \"\"\"データセット中のラベル分布をグラフとして描画\"\"\"\n",
        "    # データセット中のラベルの数を数える\n",
        "    label_counter = Counter()\n",
        "    for data in dataset:\n",
        "        label_id = data[\"label\"]\n",
        "        label_name = dataset.features[\"label\"].names[label_id]\n",
        "        label_counter[label_name] += 1\n",
        "    # label_counterを棒グラフとして描画する\n",
        "    plt.bar(label_counter.keys(), label_counter.values(), width=1.0)\n",
        "    plt.xlabel(\"ラベル\")\n",
        "    plt.ylabel(\"事例数\")\n",
        "    plt.show()\n",
        "\n",
        "visualize_labels(train_dataset)\n",
        "visualize_labels(valid_dataset)"
      ]
    },
    {
      "cell_type": "markdown",
      "id": "9981e005",
      "metadata": {
        "id": "9981e005"
      },
      "source": [
        "### 5.2.5 データセットの前処理"
      ]
    },
    {
      "cell_type": "code",
      "execution_count": null,
      "id": "db4deb87",
      "metadata": {
        "id": "db4deb87"
      },
      "outputs": [],
      "source": [
        "from transformers import BatchEncoding\n",
        "\n",
        "def preprocess_text_classification(\n",
        "    example: dict[str, str | int]\n",
        ") -> BatchEncoding:\n",
        "    \"\"\"文書分類の事例のテキストをトークナイズし、IDに変換\"\"\"\n",
        "    encoded_example = tokenizer(example[\"sentence\"], max_length=512)\n",
        "    # モデルの入力引数である\"labels\"をキーとして格納する\n",
        "    encoded_example[\"labels\"] = example[\"label\"]\n",
        "    return encoded_example"
      ]
    },
    {
      "cell_type": "code",
      "execution_count": null,
      "id": "13d1d1a2",
      "metadata": {
        "colab": {
          "base_uri": "https://localhost:8080/",
          "height": 55,
          "referenced_widgets": [
            "51b19885b76241a8bb3db92d42c89d6b",
            "3036ef5cd75f49f29969f4b87c62e28e",
            "1d1c7227859e45d4b024819375664280",
            "dd2d4ea54b11409d841e2e508c5f659f",
            "7b953b636d674c969af395d2ed938c29",
            "02808d3413d64394bc443ff245ed9711",
            "79eb024be2a3485cae5040ab68eb3dc9",
            "e204bc5f011442a68997cea01b335ce8",
            "7be3be5b8b374e2188ad960b9ae9f962",
            "ec80d513bdb3455baf91a177cfa952fd",
            "0e7ac7d929f8478eb3e965369b071056",
            "0d7caeac74194b29b03814746eb27b07",
            "e6f5efc15cb840f3bee657f02bf7cd0d",
            "98dee2450b454f53864d90aae2fb7cb2",
            "689e1bb4d8ef469da5a3528c4da3877f",
            "4809e52cb4fe4a459ee1f995c0260017",
            "d42f4a95574040b38053337fc9f94451",
            "fded998b4ed44df882045a25ee32d0a9",
            "143aa6294c7e47569a90dd8d2096ce88",
            "21241ce306484c6bbb1564d271999275",
            "eebe152e0c81446bacacae7946826d30",
            "f4789db930dd42c7b44ee41808a31190"
          ]
        },
        "id": "13d1d1a2",
        "outputId": "f921185b-5e5a-4f18-dc44-a07c10fa5e09"
      },
      "outputs": [
        {
          "output_type": "display_data",
          "data": {
            "text/plain": [
              "Map:   0%|          | 0/187528 [00:00<?, ? examples/s]"
            ],
            "application/vnd.jupyter.widget-view+json": {
              "version_major": 2,
              "version_minor": 0,
              "model_id": "51b19885b76241a8bb3db92d42c89d6b"
            }
          },
          "metadata": {}
        },
        {
          "output_type": "stream",
          "name": "stderr",
          "text": [
            "Truncation was not explicitly activated but `max_length` is provided a specific value, please use `truncation=True` to explicitly truncate examples to max length. Defaulting to 'longest_first' truncation strategy. If you encode pairs of sequences (GLUE-style) with the tokenizer you can select this strategy more precisely by providing a specific strategy to `truncation`.\n"
          ]
        },
        {
          "output_type": "display_data",
          "data": {
            "text/plain": [
              "Map:   0%|          | 0/5654 [00:00<?, ? examples/s]"
            ],
            "application/vnd.jupyter.widget-view+json": {
              "version_major": 2,
              "version_minor": 0,
              "model_id": "0d7caeac74194b29b03814746eb27b07"
            }
          },
          "metadata": {}
        }
      ],
      "source": [
        "encoded_train_dataset = train_dataset.map(\n",
        "    preprocess_text_classification,\n",
        "    remove_columns=train_dataset.column_names,\n",
        ")\n",
        "encoded_valid_dataset = valid_dataset.map(\n",
        "    preprocess_text_classification,\n",
        "    remove_columns=valid_dataset.column_names,\n",
        ")"
      ]
    },
    {
      "cell_type": "code",
      "execution_count": null,
      "id": "e35135a4",
      "metadata": {
        "colab": {
          "base_uri": "https://localhost:8080/"
        },
        "id": "e35135a4",
        "outputId": "20ed6527-de6a-4737-f52b-3de965220539"
      },
      "outputs": [
        {
          "output_type": "stream",
          "name": "stdout",
          "text": [
            "{'input_ids': [2, 13204, 23886, 464, 2683, 461, 12538, 500, 481, 456, 15066, 457, 484, 913, 11226, 461, 12493, 456, 14281, 458, 2391, 18351, 456, 384, 2702, 34, 2002, 385, 21709, 456, 14982, 458, 601, 2023, 14120, 449, 430, 384, 15171, 5986, 7126, 456, 437, 12581, 449, 385, 37, 2002, 1039, 461, 484, 384, 23886, 464, 23, 458, 12737, 456, 484, 14087, 13037, 430, 24, 12566, 464, 15637, 461, 19219, 13123, 384, 12538, 465, 23845, 16, 458, 14120, 456, 384, 16050, 457, 484, 742, 2023, 484, 13619, 461, 13497, 12727, 384, 1781, 457, 484, 5538, 456, 12727, 441, 449, 13325, 457, 384, 15171, 14563, 12519, 461, 21709, 456, 24003, 12581, 449, 385, 385, 385, 12499, 12611, 384, 15171, 34, 1423, 13929, 441, 456, 12995, 385, 458, 7446, 7446, 457, 12517, 13819, 384, 5640, 429, 464, 2149, 464, 17481, 461, 12493, 456, 14982, 7203, 466, 458, 16584, 13819, 385, 14902, 464, 2790, 484, 13588, 13037, 385, 420, 7053, 384, 12731, 484, 15581, 8793, 7349, 15750, 500, 27774, 13030, 385, 13125, 484, 441, 13030, 430, 385, 385, 385, 3], 'token_type_ids': [0, 0, 0, 0, 0, 0, 0, 0, 0, 0, 0, 0, 0, 0, 0, 0, 0, 0, 0, 0, 0, 0, 0, 0, 0, 0, 0, 0, 0, 0, 0, 0, 0, 0, 0, 0, 0, 0, 0, 0, 0, 0, 0, 0, 0, 0, 0, 0, 0, 0, 0, 0, 0, 0, 0, 0, 0, 0, 0, 0, 0, 0, 0, 0, 0, 0, 0, 0, 0, 0, 0, 0, 0, 0, 0, 0, 0, 0, 0, 0, 0, 0, 0, 0, 0, 0, 0, 0, 0, 0, 0, 0, 0, 0, 0, 0, 0, 0, 0, 0, 0, 0, 0, 0, 0, 0, 0, 0, 0, 0, 0, 0, 0, 0, 0, 0, 0, 0, 0, 0, 0, 0, 0, 0, 0, 0, 0, 0, 0, 0, 0, 0, 0, 0, 0, 0, 0, 0, 0, 0, 0, 0, 0, 0, 0, 0, 0, 0, 0, 0, 0, 0, 0, 0, 0, 0, 0, 0, 0, 0, 0, 0, 0, 0, 0, 0, 0, 0, 0, 0, 0, 0, 0, 0, 0], 'attention_mask': [1, 1, 1, 1, 1, 1, 1, 1, 1, 1, 1, 1, 1, 1, 1, 1, 1, 1, 1, 1, 1, 1, 1, 1, 1, 1, 1, 1, 1, 1, 1, 1, 1, 1, 1, 1, 1, 1, 1, 1, 1, 1, 1, 1, 1, 1, 1, 1, 1, 1, 1, 1, 1, 1, 1, 1, 1, 1, 1, 1, 1, 1, 1, 1, 1, 1, 1, 1, 1, 1, 1, 1, 1, 1, 1, 1, 1, 1, 1, 1, 1, 1, 1, 1, 1, 1, 1, 1, 1, 1, 1, 1, 1, 1, 1, 1, 1, 1, 1, 1, 1, 1, 1, 1, 1, 1, 1, 1, 1, 1, 1, 1, 1, 1, 1, 1, 1, 1, 1, 1, 1, 1, 1, 1, 1, 1, 1, 1, 1, 1, 1, 1, 1, 1, 1, 1, 1, 1, 1, 1, 1, 1, 1, 1, 1, 1, 1, 1, 1, 1, 1, 1, 1, 1, 1, 1, 1, 1, 1, 1, 1, 1, 1, 1, 1, 1, 1, 1, 1, 1, 1, 1, 1, 1, 1], 'labels': 0}\n"
          ]
        }
      ],
      "source": [
        "print(encoded_train_dataset[0])"
      ]
    },
    {
      "cell_type": "markdown",
      "id": "2a3a07a6",
      "metadata": {
        "id": "2a3a07a6"
      },
      "source": [
        "### 5.2.6 ミニバッチ構築"
      ]
    },
    {
      "cell_type": "code",
      "execution_count": null,
      "id": "6203489d",
      "metadata": {
        "id": "6203489d"
      },
      "outputs": [],
      "source": [
        "from transformers import DataCollatorWithPadding\n",
        "\n",
        "data_collator = DataCollatorWithPadding(tokenizer=tokenizer)"
      ]
    },
    {
      "cell_type": "code",
      "execution_count": null,
      "id": "3041d814",
      "metadata": {
        "colab": {
          "base_uri": "https://localhost:8080/"
        },
        "id": "3041d814",
        "outputId": "87072aee-6b8f-456d-c747-fd4a8288e591"
      },
      "outputs": [
        {
          "output_type": "stream",
          "name": "stdout",
          "text": [
            "{'attention_mask': torch.Size([4, 175]),\n",
            " 'input_ids': torch.Size([4, 175]),\n",
            " 'labels': torch.Size([4]),\n",
            " 'token_type_ids': torch.Size([4, 175])}\n"
          ]
        }
      ],
      "source": [
        "batch_inputs = data_collator(encoded_train_dataset[0:4])\n",
        "pprint({name: tensor.size() for name, tensor in batch_inputs.items()})"
      ]
    },
    {
      "cell_type": "markdown",
      "id": "81822ce0",
      "metadata": {
        "id": "81822ce0"
      },
      "source": [
        "### 5.2.7 モデルの準備"
      ]
    },
    {
      "cell_type": "code",
      "execution_count": null,
      "id": "fd5e5f59",
      "metadata": {
        "colab": {
          "base_uri": "https://localhost:8080/",
          "height": 208,
          "referenced_widgets": [
            "ab7bd3808671431a835b96876b388a8c",
            "4c02d152ad7f469fb1a8e5d4648bd01e",
            "5ca87c17d0a54b26bed8a16b5cf0c760",
            "7f6f09b381f247808285a06f36424bdd",
            "e9f2e7cdf350413880d788070d9fd1e0",
            "24a7c2553ed14c49abe5f63be1990f5a",
            "750c1186ada04e4b84a3c90a84c2a92f",
            "6b4be217d5fc4f7cb9d43639b1a42471",
            "48a64dc78cc44e829618ee595b020a01",
            "9a40527859f54d98aae7bc8944f35264",
            "fdf9ca68e02b4246af5c45b3222d0f8d",
            "ec0e1eb880b64ef2b8f5982db92a747f",
            "bd0a3e27ebfc416d9c2a9564460bf1e7",
            "3ebf5ab91aad43baa190d34f3aeca3f5",
            "b052273028aa4c86aa77c7137ba5eea4",
            "281e913dc91e44afa66d18d047dfdb1f",
            "4b483d2bc7a04657beb7daac2ea15085",
            "38287c0031854188acf868dadf622214",
            "7f23506108dd4b02b98f43f2f563407c",
            "381c1b27b4684a69960319d7a187f001",
            "45a2f733c71942098e703af1d3bac5ab",
            "149e23d0ef3447acb80db0d12a90ecca"
          ]
        },
        "id": "fd5e5f59",
        "outputId": "3b737bce-a02e-4f64-b85a-aef6f2c54195"
      },
      "outputs": [
        {
          "output_type": "display_data",
          "data": {
            "text/plain": [
              "Downloading (…)lve/main/config.json:   0%|          | 0.00/472 [00:00<?, ?B/s]"
            ],
            "application/vnd.jupyter.widget-view+json": {
              "version_major": 2,
              "version_minor": 0,
              "model_id": "ab7bd3808671431a835b96876b388a8c"
            }
          },
          "metadata": {}
        },
        {
          "output_type": "display_data",
          "data": {
            "text/plain": [
              "Downloading pytorch_model.bin:   0%|          | 0.00/447M [00:00<?, ?B/s]"
            ],
            "application/vnd.jupyter.widget-view+json": {
              "version_major": 2,
              "version_minor": 0,
              "model_id": "ec0e1eb880b64ef2b8f5982db92a747f"
            }
          },
          "metadata": {}
        },
        {
          "output_type": "stream",
          "name": "stderr",
          "text": [
            "Some weights of the model checkpoint at cl-tohoku/bert-base-japanese-v3 were not used when initializing BertForSequenceClassification: ['cls.predictions.decoder.weight', 'cls.predictions.transform.dense.weight', 'cls.predictions.transform.LayerNorm.bias', 'cls.predictions.decoder.bias', 'cls.seq_relationship.weight', 'cls.predictions.transform.dense.bias', 'cls.seq_relationship.bias', 'cls.predictions.transform.LayerNorm.weight', 'cls.predictions.bias']\n",
            "- This IS expected if you are initializing BertForSequenceClassification from the checkpoint of a model trained on another task or with another architecture (e.g. initializing a BertForSequenceClassification model from a BertForPreTraining model).\n",
            "- This IS NOT expected if you are initializing BertForSequenceClassification from the checkpoint of a model that you expect to be exactly identical (initializing a BertForSequenceClassification model from a BertForSequenceClassification model).\n",
            "Some weights of BertForSequenceClassification were not initialized from the model checkpoint at cl-tohoku/bert-base-japanese-v3 and are newly initialized: ['classifier.bias', 'classifier.weight']\n",
            "You should probably TRAIN this model on a down-stream task to be able to use it for predictions and inference.\n"
          ]
        },
        {
          "output_type": "stream",
          "name": "stdout",
          "text": [
            "BertForSequenceClassification\n"
          ]
        }
      ],
      "source": [
        "from transformers import AutoModelForSequenceClassification\n",
        "\n",
        "class_label = train_dataset.features[\"label\"]\n",
        "label2id = {label: id for id, label in enumerate(class_label.names)}\n",
        "id2label = {id: label for id, label in enumerate(class_label.names)}\n",
        "model = AutoModelForSequenceClassification.from_pretrained(\n",
        "    model_name,\n",
        "    num_labels=class_label.num_classes,\n",
        "    label2id=label2id,  # ラベル名からIDへの対応を指定\n",
        "    id2label=id2label,  # IDからラベル名への対応を指定\n",
        ")\n",
        "print(type(model).__name__)\n",
        "\n",
        "# パラメータをメモリ上に隣接した形で配置\n",
        "# これを実行しない場合、モデルの保存でエラーになることがある\n",
        "for param in model.parameters():\n",
        "    param.data = param.data.contiguous()"
      ]
    },
    {
      "cell_type": "code",
      "execution_count": null,
      "id": "bc3ef02e",
      "metadata": {
        "colab": {
          "base_uri": "https://localhost:8080/"
        },
        "id": "bc3ef02e",
        "outputId": "9f0b7f3f-0db2-4b8d-9bd4-2581e007fbf3"
      },
      "outputs": [
        {
          "output_type": "stream",
          "name": "stdout",
          "text": [
            "SequenceClassifierOutput(loss=tensor(0.4402, grad_fn=<NllLossBackward0>), logits=tensor([[ 0.5469, -0.2591],\n",
            "        [ 0.3565,  0.0415],\n",
            "        [ 0.1228, -0.5284],\n",
            "        [ 0.5843, -0.0540]], grad_fn=<AddmmBackward0>), hidden_states=None, attentions=None)\n"
          ]
        }
      ],
      "source": [
        "print(model.forward(**data_collator(encoded_train_dataset[0:4])))"
      ]
    },
    {
      "cell_type": "markdown",
      "id": "0bb81a95",
      "metadata": {
        "id": "0bb81a95"
      },
      "source": [
        "### 5.2.8 訓練の実行"
      ]
    },
    {
      "cell_type": "code",
      "execution_count": null,
      "id": "54cf1b63",
      "metadata": {
        "id": "54cf1b63"
      },
      "outputs": [],
      "source": [
        "from transformers import TrainingArguments\n",
        "\n",
        "training_args = TrainingArguments(\n",
        "    output_dir=\"output_marc_ja\",  # 結果の保存フォルダ\n",
        "    per_device_train_batch_size=32,  # 訓練時のバッチサイズ\n",
        "    per_device_eval_batch_size=32,  # 評価時のバッチサイズ\n",
        "    learning_rate=2e-5,  # 学習率\n",
        "    lr_scheduler_type=\"linear\",  # 学習率スケジューラの種類\n",
        "    warmup_ratio=0.1,  # 学習率のウォームアップの長さを指定\n",
        "    num_train_epochs=3,  # エポック数\n",
        "    save_strategy=\"epoch\",  # チェックポイントの保存タイミング\n",
        "    logging_strategy=\"epoch\",  # ロギングのタイミング\n",
        "    evaluation_strategy=\"epoch\",  # 検証セットによる評価のタイミング\n",
        "    load_best_model_at_end=True,  # 訓練後に開発セットで最良のモデルをロード\n",
        "    metric_for_best_model=\"accuracy\",  # 最良のモデルを決定する評価指標\n",
        "    fp16=True,  # 自動混合精度演算の有効化\n",
        "    report_to=\"none\",  # 外部ツールへのログを無効化\n",
        ")"
      ]
    },
    {
      "cell_type": "code",
      "execution_count": null,
      "id": "0323ffd8",
      "metadata": {
        "id": "0323ffd8"
      },
      "outputs": [],
      "source": [
        "import numpy as np\n",
        "\n",
        "def compute_accuracy(\n",
        "    eval_pred: tuple[np.ndarray, np.ndarray]\n",
        ") -> dict[str, float]:\n",
        "    \"\"\"予測ラベルと正解ラベルから正解率を計算\"\"\"\n",
        "    predictions, labels = eval_pred\n",
        "    # predictionsは各ラベルについてのスコア\n",
        "    # 最もスコアの高いインデックスを予測ラベルとする\n",
        "    predictions = np.argmax(predictions, axis=1)\n",
        "    return {\"accuracy\": (predictions == labels).mean()}"
      ]
    },
    {
      "cell_type": "code",
      "execution_count": null,
      "id": "871c234d",
      "metadata": {
        "colab": {
          "base_uri": "https://localhost:8080/",
          "height": 261
        },
        "id": "871c234d",
        "outputId": "b739cd4c-c025-4494-dd31-9f2a5d52a464"
      },
      "outputs": [
        {
          "output_type": "stream",
          "name": "stderr",
          "text": [
            "/usr/local/lib/python3.10/dist-packages/transformers/optimization.py:411: FutureWarning: This implementation of AdamW is deprecated and will be removed in a future version. Use the PyTorch implementation torch.optim.AdamW instead, or set `no_deprecation_warning=True` to disable this warning\n",
            "  warnings.warn(\n"
          ]
        },
        {
          "output_type": "display_data",
          "data": {
            "text/plain": [
              "<IPython.core.display.HTML object>"
            ],
            "text/html": [
              "\n",
              "    <div>\n",
              "      \n",
              "      <progress value='17583' max='17583' style='width:300px; height:20px; vertical-align: middle;'></progress>\n",
              "      [17583/17583 3:15:09, Epoch 3/3]\n",
              "    </div>\n",
              "    <table border=\"1\" class=\"dataframe\">\n",
              "  <thead>\n",
              " <tr style=\"text-align: left;\">\n",
              "      <th>Epoch</th>\n",
              "      <th>Training Loss</th>\n",
              "      <th>Validation Loss</th>\n",
              "      <th>Accuracy</th>\n",
              "    </tr>\n",
              "  </thead>\n",
              "  <tbody>\n",
              "    <tr>\n",
              "      <td>1</td>\n",
              "      <td>0.137000</td>\n",
              "      <td>0.101480</td>\n",
              "      <td>0.965157</td>\n",
              "    </tr>\n",
              "    <tr>\n",
              "      <td>2</td>\n",
              "      <td>0.077200</td>\n",
              "      <td>0.140027</td>\n",
              "      <td>0.960559</td>\n",
              "    </tr>\n",
              "    <tr>\n",
              "      <td>3</td>\n",
              "      <td>0.043200</td>\n",
              "      <td>0.176728</td>\n",
              "      <td>0.961089</td>\n",
              "    </tr>\n",
              "  </tbody>\n",
              "</table><p>"
            ]
          },
          "metadata": {}
        },
        {
          "output_type": "execute_result",
          "data": {
            "text/plain": [
              "TrainOutput(global_step=17583, training_loss=0.08579717433365147, metrics={'train_runtime': 11712.7501, 'train_samples_per_second': 48.032, 'train_steps_per_second': 1.501, 'total_flos': 8.623769472692784e+16, 'train_loss': 0.08579717433365147, 'epoch': 3.0})"
            ]
          },
          "metadata": {},
          "execution_count": 22
        }
      ],
      "source": [
        "from transformers import Trainer\n",
        "\n",
        "trainer = Trainer(\n",
        "    model=model,\n",
        "    train_dataset=encoded_train_dataset,\n",
        "    eval_dataset=encoded_valid_dataset,\n",
        "    data_collator=data_collator,\n",
        "    args=training_args,\n",
        "    compute_metrics=compute_accuracy,\n",
        ")\n",
        "trainer.train()"
      ]
    },
    {
      "cell_type": "markdown",
      "id": "00d79e9c",
      "metadata": {
        "id": "00d79e9c"
      },
      "source": [
        "### 5.2.9 訓練後のモデルの評価"
      ]
    },
    {
      "cell_type": "code",
      "execution_count": null,
      "id": "1f6737b3",
      "metadata": {
        "colab": {
          "base_uri": "https://localhost:8080/",
          "height": 144
        },
        "id": "1f6737b3",
        "outputId": "d0380599-95aa-4081-d442-b22d366697ba"
      },
      "outputs": [
        {
          "output_type": "display_data",
          "data": {
            "text/plain": [
              "<IPython.core.display.HTML object>"
            ],
            "text/html": [
              "\n",
              "    <div>\n",
              "      \n",
              "      <progress value='177' max='177' style='width:300px; height:20px; vertical-align: middle;'></progress>\n",
              "      [177/177 00:38]\n",
              "    </div>\n",
              "    "
            ]
          },
          "metadata": {}
        },
        {
          "output_type": "stream",
          "name": "stdout",
          "text": [
            "{'epoch': 3.0,\n",
            " 'eval_accuracy': 0.9651574106827026,\n",
            " 'eval_loss': 0.10147950798273087,\n",
            " 'eval_runtime': 39.2055,\n",
            " 'eval_samples_per_second': 144.214,\n",
            " 'eval_steps_per_second': 4.515}\n"
          ]
        }
      ],
      "source": [
        "# 検証セットでモデルを評価\n",
        "eval_metrics = trainer.evaluate(encoded_valid_dataset)\n",
        "pprint(eval_metrics)"
      ]
    },
    {
      "cell_type": "markdown",
      "id": "08ae46d9",
      "metadata": {
        "id": "08ae46d9"
      },
      "source": [
        "### 5.2.10 モデルの保存"
      ]
    },
    {
      "cell_type": "markdown",
      "source": [
        "Google Driveへの保存"
      ],
      "metadata": {
        "collapsed": false,
        "pycharm": {
          "name": "#%% md\n"
        },
        "id": "0h2BYtEUUrIz"
      },
      "id": "0h2BYtEUUrIz"
    },
    {
      "cell_type": "code",
      "execution_count": null,
      "id": "50321743",
      "metadata": {
        "id": "50321743"
      },
      "outputs": [],
      "source": [
        "# Googleドライブをマウントする\n",
        "from google.colab import drive\n",
        "\n",
        "drive.mount(\"drive\")"
      ]
    },
    {
      "cell_type": "code",
      "execution_count": null,
      "id": "27389427",
      "metadata": {
        "id": "27389427"
      },
      "outputs": [],
      "source": [
        "# 保存されたモデルをGoogleドライブのフォルダにコピーする\n",
        "!mkdir -p drive/MyDrive/llm-book\n",
        "!cp -r output_marc_ja drive/MyDrive/llm-book"
      ]
    },
    {
      "cell_type": "markdown",
      "source": [
        "Hugging Face Hubへの保存"
      ],
      "metadata": {
        "collapsed": false,
        "pycharm": {
          "name": "#%% md\n"
        },
        "id": "h7heumCNUrI2"
      },
      "id": "h7heumCNUrI2"
    },
    {
      "cell_type": "code",
      "execution_count": null,
      "id": "8c4e023e",
      "metadata": {
        "id": "8c4e023e"
      },
      "outputs": [],
      "source": [
        "from huggingface_hub import login\n",
        "\n",
        "login()\n",
        "\n",
        "# Hugging Face Hubのリポジトリ名\n",
        "# \"YOUR-ACCOUNT\"は自らのユーザ名に置き換えてください\n",
        "repo_name = \"YOUR-ACCOUNT/bert-base-japanese-v3-marc_ja\"\n",
        "# トークナイザとモデルをアップロード\n",
        "tokenizer.push_to_hub(repo_name)\n",
        "model.push_to_hub(repo_name)"
      ]
    }
  ],
  "metadata": {
    "colab": {
      "provenance": [],
      "gpuType": "T4"
    },
    "language_info": {
      "name": "python"
    },
    "kernelspec": {
      "name": "python3",
      "display_name": "Python 3"
    },
    "accelerator": "GPU",
    "widgets": {
      "application/vnd.jupyter.widget-state+json": {
        "51b19885b76241a8bb3db92d42c89d6b": {
          "model_module": "@jupyter-widgets/controls",
          "model_name": "HBoxModel",
          "model_module_version": "1.5.0",
          "state": {
            "_dom_classes": [],
            "_model_module": "@jupyter-widgets/controls",
            "_model_module_version": "1.5.0",
            "_model_name": "HBoxModel",
            "_view_count": null,
            "_view_module": "@jupyter-widgets/controls",
            "_view_module_version": "1.5.0",
            "_view_name": "HBoxView",
            "box_style": "",
            "children": [
              "IPY_MODEL_3036ef5cd75f49f29969f4b87c62e28e",
              "IPY_MODEL_1d1c7227859e45d4b024819375664280",
              "IPY_MODEL_dd2d4ea54b11409d841e2e508c5f659f"
            ],
            "layout": "IPY_MODEL_7b953b636d674c969af395d2ed938c29"
          }
        },
        "3036ef5cd75f49f29969f4b87c62e28e": {
          "model_module": "@jupyter-widgets/controls",
          "model_name": "HTMLModel",
          "model_module_version": "1.5.0",
          "state": {
            "_dom_classes": [],
            "_model_module": "@jupyter-widgets/controls",
            "_model_module_version": "1.5.0",
            "_model_name": "HTMLModel",
            "_view_count": null,
            "_view_module": "@jupyter-widgets/controls",
            "_view_module_version": "1.5.0",
            "_view_name": "HTMLView",
            "description": "",
            "description_tooltip": null,
            "layout": "IPY_MODEL_02808d3413d64394bc443ff245ed9711",
            "placeholder": "​",
            "style": "IPY_MODEL_79eb024be2a3485cae5040ab68eb3dc9",
            "value": "Map: 100%"
          }
        },
        "1d1c7227859e45d4b024819375664280": {
          "model_module": "@jupyter-widgets/controls",
          "model_name": "FloatProgressModel",
          "model_module_version": "1.5.0",
          "state": {
            "_dom_classes": [],
            "_model_module": "@jupyter-widgets/controls",
            "_model_module_version": "1.5.0",
            "_model_name": "FloatProgressModel",
            "_view_count": null,
            "_view_module": "@jupyter-widgets/controls",
            "_view_module_version": "1.5.0",
            "_view_name": "ProgressView",
            "bar_style": "",
            "description": "",
            "description_tooltip": null,
            "layout": "IPY_MODEL_e204bc5f011442a68997cea01b335ce8",
            "max": 187528,
            "min": 0,
            "orientation": "horizontal",
            "style": "IPY_MODEL_7be3be5b8b374e2188ad960b9ae9f962",
            "value": 187528
          }
        },
        "dd2d4ea54b11409d841e2e508c5f659f": {
          "model_module": "@jupyter-widgets/controls",
          "model_name": "HTMLModel",
          "model_module_version": "1.5.0",
          "state": {
            "_dom_classes": [],
            "_model_module": "@jupyter-widgets/controls",
            "_model_module_version": "1.5.0",
            "_model_name": "HTMLModel",
            "_view_count": null,
            "_view_module": "@jupyter-widgets/controls",
            "_view_module_version": "1.5.0",
            "_view_name": "HTMLView",
            "description": "",
            "description_tooltip": null,
            "layout": "IPY_MODEL_ec80d513bdb3455baf91a177cfa952fd",
            "placeholder": "​",
            "style": "IPY_MODEL_0e7ac7d929f8478eb3e965369b071056",
            "value": " 187499/187528 [03:10&lt;00:00, 1083.96 examples/s]"
          }
        },
        "7b953b636d674c969af395d2ed938c29": {
          "model_module": "@jupyter-widgets/base",
          "model_name": "LayoutModel",
          "model_module_version": "1.2.0",
          "state": {
            "_model_module": "@jupyter-widgets/base",
            "_model_module_version": "1.2.0",
            "_model_name": "LayoutModel",
            "_view_count": null,
            "_view_module": "@jupyter-widgets/base",
            "_view_module_version": "1.2.0",
            "_view_name": "LayoutView",
            "align_content": null,
            "align_items": null,
            "align_self": null,
            "border": null,
            "bottom": null,
            "display": null,
            "flex": null,
            "flex_flow": null,
            "grid_area": null,
            "grid_auto_columns": null,
            "grid_auto_flow": null,
            "grid_auto_rows": null,
            "grid_column": null,
            "grid_gap": null,
            "grid_row": null,
            "grid_template_areas": null,
            "grid_template_columns": null,
            "grid_template_rows": null,
            "height": null,
            "justify_content": null,
            "justify_items": null,
            "left": null,
            "margin": null,
            "max_height": null,
            "max_width": null,
            "min_height": null,
            "min_width": null,
            "object_fit": null,
            "object_position": null,
            "order": null,
            "overflow": null,
            "overflow_x": null,
            "overflow_y": null,
            "padding": null,
            "right": null,
            "top": null,
            "visibility": "hidden",
            "width": null
          }
        },
        "02808d3413d64394bc443ff245ed9711": {
          "model_module": "@jupyter-widgets/base",
          "model_name": "LayoutModel",
          "model_module_version": "1.2.0",
          "state": {
            "_model_module": "@jupyter-widgets/base",
            "_model_module_version": "1.2.0",
            "_model_name": "LayoutModel",
            "_view_count": null,
            "_view_module": "@jupyter-widgets/base",
            "_view_module_version": "1.2.0",
            "_view_name": "LayoutView",
            "align_content": null,
            "align_items": null,
            "align_self": null,
            "border": null,
            "bottom": null,
            "display": null,
            "flex": null,
            "flex_flow": null,
            "grid_area": null,
            "grid_auto_columns": null,
            "grid_auto_flow": null,
            "grid_auto_rows": null,
            "grid_column": null,
            "grid_gap": null,
            "grid_row": null,
            "grid_template_areas": null,
            "grid_template_columns": null,
            "grid_template_rows": null,
            "height": null,
            "justify_content": null,
            "justify_items": null,
            "left": null,
            "margin": null,
            "max_height": null,
            "max_width": null,
            "min_height": null,
            "min_width": null,
            "object_fit": null,
            "object_position": null,
            "order": null,
            "overflow": null,
            "overflow_x": null,
            "overflow_y": null,
            "padding": null,
            "right": null,
            "top": null,
            "visibility": null,
            "width": null
          }
        },
        "79eb024be2a3485cae5040ab68eb3dc9": {
          "model_module": "@jupyter-widgets/controls",
          "model_name": "DescriptionStyleModel",
          "model_module_version": "1.5.0",
          "state": {
            "_model_module": "@jupyter-widgets/controls",
            "_model_module_version": "1.5.0",
            "_model_name": "DescriptionStyleModel",
            "_view_count": null,
            "_view_module": "@jupyter-widgets/base",
            "_view_module_version": "1.2.0",
            "_view_name": "StyleView",
            "description_width": ""
          }
        },
        "e204bc5f011442a68997cea01b335ce8": {
          "model_module": "@jupyter-widgets/base",
          "model_name": "LayoutModel",
          "model_module_version": "1.2.0",
          "state": {
            "_model_module": "@jupyter-widgets/base",
            "_model_module_version": "1.2.0",
            "_model_name": "LayoutModel",
            "_view_count": null,
            "_view_module": "@jupyter-widgets/base",
            "_view_module_version": "1.2.0",
            "_view_name": "LayoutView",
            "align_content": null,
            "align_items": null,
            "align_self": null,
            "border": null,
            "bottom": null,
            "display": null,
            "flex": null,
            "flex_flow": null,
            "grid_area": null,
            "grid_auto_columns": null,
            "grid_auto_flow": null,
            "grid_auto_rows": null,
            "grid_column": null,
            "grid_gap": null,
            "grid_row": null,
            "grid_template_areas": null,
            "grid_template_columns": null,
            "grid_template_rows": null,
            "height": null,
            "justify_content": null,
            "justify_items": null,
            "left": null,
            "margin": null,
            "max_height": null,
            "max_width": null,
            "min_height": null,
            "min_width": null,
            "object_fit": null,
            "object_position": null,
            "order": null,
            "overflow": null,
            "overflow_x": null,
            "overflow_y": null,
            "padding": null,
            "right": null,
            "top": null,
            "visibility": null,
            "width": null
          }
        },
        "7be3be5b8b374e2188ad960b9ae9f962": {
          "model_module": "@jupyter-widgets/controls",
          "model_name": "ProgressStyleModel",
          "model_module_version": "1.5.0",
          "state": {
            "_model_module": "@jupyter-widgets/controls",
            "_model_module_version": "1.5.0",
            "_model_name": "ProgressStyleModel",
            "_view_count": null,
            "_view_module": "@jupyter-widgets/base",
            "_view_module_version": "1.2.0",
            "_view_name": "StyleView",
            "bar_color": null,
            "description_width": ""
          }
        },
        "ec80d513bdb3455baf91a177cfa952fd": {
          "model_module": "@jupyter-widgets/base",
          "model_name": "LayoutModel",
          "model_module_version": "1.2.0",
          "state": {
            "_model_module": "@jupyter-widgets/base",
            "_model_module_version": "1.2.0",
            "_model_name": "LayoutModel",
            "_view_count": null,
            "_view_module": "@jupyter-widgets/base",
            "_view_module_version": "1.2.0",
            "_view_name": "LayoutView",
            "align_content": null,
            "align_items": null,
            "align_self": null,
            "border": null,
            "bottom": null,
            "display": null,
            "flex": null,
            "flex_flow": null,
            "grid_area": null,
            "grid_auto_columns": null,
            "grid_auto_flow": null,
            "grid_auto_rows": null,
            "grid_column": null,
            "grid_gap": null,
            "grid_row": null,
            "grid_template_areas": null,
            "grid_template_columns": null,
            "grid_template_rows": null,
            "height": null,
            "justify_content": null,
            "justify_items": null,
            "left": null,
            "margin": null,
            "max_height": null,
            "max_width": null,
            "min_height": null,
            "min_width": null,
            "object_fit": null,
            "object_position": null,
            "order": null,
            "overflow": null,
            "overflow_x": null,
            "overflow_y": null,
            "padding": null,
            "right": null,
            "top": null,
            "visibility": null,
            "width": null
          }
        },
        "0e7ac7d929f8478eb3e965369b071056": {
          "model_module": "@jupyter-widgets/controls",
          "model_name": "DescriptionStyleModel",
          "model_module_version": "1.5.0",
          "state": {
            "_model_module": "@jupyter-widgets/controls",
            "_model_module_version": "1.5.0",
            "_model_name": "DescriptionStyleModel",
            "_view_count": null,
            "_view_module": "@jupyter-widgets/base",
            "_view_module_version": "1.2.0",
            "_view_name": "StyleView",
            "description_width": ""
          }
        },
        "0d7caeac74194b29b03814746eb27b07": {
          "model_module": "@jupyter-widgets/controls",
          "model_name": "HBoxModel",
          "model_module_version": "1.5.0",
          "state": {
            "_dom_classes": [],
            "_model_module": "@jupyter-widgets/controls",
            "_model_module_version": "1.5.0",
            "_model_name": "HBoxModel",
            "_view_count": null,
            "_view_module": "@jupyter-widgets/controls",
            "_view_module_version": "1.5.0",
            "_view_name": "HBoxView",
            "box_style": "",
            "children": [
              "IPY_MODEL_e6f5efc15cb840f3bee657f02bf7cd0d",
              "IPY_MODEL_98dee2450b454f53864d90aae2fb7cb2",
              "IPY_MODEL_689e1bb4d8ef469da5a3528c4da3877f"
            ],
            "layout": "IPY_MODEL_4809e52cb4fe4a459ee1f995c0260017"
          }
        },
        "e6f5efc15cb840f3bee657f02bf7cd0d": {
          "model_module": "@jupyter-widgets/controls",
          "model_name": "HTMLModel",
          "model_module_version": "1.5.0",
          "state": {
            "_dom_classes": [],
            "_model_module": "@jupyter-widgets/controls",
            "_model_module_version": "1.5.0",
            "_model_name": "HTMLModel",
            "_view_count": null,
            "_view_module": "@jupyter-widgets/controls",
            "_view_module_version": "1.5.0",
            "_view_name": "HTMLView",
            "description": "",
            "description_tooltip": null,
            "layout": "IPY_MODEL_d42f4a95574040b38053337fc9f94451",
            "placeholder": "​",
            "style": "IPY_MODEL_fded998b4ed44df882045a25ee32d0a9",
            "value": "Map:  99%"
          }
        },
        "98dee2450b454f53864d90aae2fb7cb2": {
          "model_module": "@jupyter-widgets/controls",
          "model_name": "FloatProgressModel",
          "model_module_version": "1.5.0",
          "state": {
            "_dom_classes": [],
            "_model_module": "@jupyter-widgets/controls",
            "_model_module_version": "1.5.0",
            "_model_name": "FloatProgressModel",
            "_view_count": null,
            "_view_module": "@jupyter-widgets/controls",
            "_view_module_version": "1.5.0",
            "_view_name": "ProgressView",
            "bar_style": "",
            "description": "",
            "description_tooltip": null,
            "layout": "IPY_MODEL_143aa6294c7e47569a90dd8d2096ce88",
            "max": 5654,
            "min": 0,
            "orientation": "horizontal",
            "style": "IPY_MODEL_21241ce306484c6bbb1564d271999275",
            "value": 5654
          }
        },
        "689e1bb4d8ef469da5a3528c4da3877f": {
          "model_module": "@jupyter-widgets/controls",
          "model_name": "HTMLModel",
          "model_module_version": "1.5.0",
          "state": {
            "_dom_classes": [],
            "_model_module": "@jupyter-widgets/controls",
            "_model_module_version": "1.5.0",
            "_model_name": "HTMLModel",
            "_view_count": null,
            "_view_module": "@jupyter-widgets/controls",
            "_view_module_version": "1.5.0",
            "_view_name": "HTMLView",
            "description": "",
            "description_tooltip": null,
            "layout": "IPY_MODEL_eebe152e0c81446bacacae7946826d30",
            "placeholder": "​",
            "style": "IPY_MODEL_f4789db930dd42c7b44ee41808a31190",
            "value": " 5621/5654 [00:06&lt;00:00, 694.78 examples/s]"
          }
        },
        "4809e52cb4fe4a459ee1f995c0260017": {
          "model_module": "@jupyter-widgets/base",
          "model_name": "LayoutModel",
          "model_module_version": "1.2.0",
          "state": {
            "_model_module": "@jupyter-widgets/base",
            "_model_module_version": "1.2.0",
            "_model_name": "LayoutModel",
            "_view_count": null,
            "_view_module": "@jupyter-widgets/base",
            "_view_module_version": "1.2.0",
            "_view_name": "LayoutView",
            "align_content": null,
            "align_items": null,
            "align_self": null,
            "border": null,
            "bottom": null,
            "display": null,
            "flex": null,
            "flex_flow": null,
            "grid_area": null,
            "grid_auto_columns": null,
            "grid_auto_flow": null,
            "grid_auto_rows": null,
            "grid_column": null,
            "grid_gap": null,
            "grid_row": null,
            "grid_template_areas": null,
            "grid_template_columns": null,
            "grid_template_rows": null,
            "height": null,
            "justify_content": null,
            "justify_items": null,
            "left": null,
            "margin": null,
            "max_height": null,
            "max_width": null,
            "min_height": null,
            "min_width": null,
            "object_fit": null,
            "object_position": null,
            "order": null,
            "overflow": null,
            "overflow_x": null,
            "overflow_y": null,
            "padding": null,
            "right": null,
            "top": null,
            "visibility": "hidden",
            "width": null
          }
        },
        "d42f4a95574040b38053337fc9f94451": {
          "model_module": "@jupyter-widgets/base",
          "model_name": "LayoutModel",
          "model_module_version": "1.2.0",
          "state": {
            "_model_module": "@jupyter-widgets/base",
            "_model_module_version": "1.2.0",
            "_model_name": "LayoutModel",
            "_view_count": null,
            "_view_module": "@jupyter-widgets/base",
            "_view_module_version": "1.2.0",
            "_view_name": "LayoutView",
            "align_content": null,
            "align_items": null,
            "align_self": null,
            "border": null,
            "bottom": null,
            "display": null,
            "flex": null,
            "flex_flow": null,
            "grid_area": null,
            "grid_auto_columns": null,
            "grid_auto_flow": null,
            "grid_auto_rows": null,
            "grid_column": null,
            "grid_gap": null,
            "grid_row": null,
            "grid_template_areas": null,
            "grid_template_columns": null,
            "grid_template_rows": null,
            "height": null,
            "justify_content": null,
            "justify_items": null,
            "left": null,
            "margin": null,
            "max_height": null,
            "max_width": null,
            "min_height": null,
            "min_width": null,
            "object_fit": null,
            "object_position": null,
            "order": null,
            "overflow": null,
            "overflow_x": null,
            "overflow_y": null,
            "padding": null,
            "right": null,
            "top": null,
            "visibility": null,
            "width": null
          }
        },
        "fded998b4ed44df882045a25ee32d0a9": {
          "model_module": "@jupyter-widgets/controls",
          "model_name": "DescriptionStyleModel",
          "model_module_version": "1.5.0",
          "state": {
            "_model_module": "@jupyter-widgets/controls",
            "_model_module_version": "1.5.0",
            "_model_name": "DescriptionStyleModel",
            "_view_count": null,
            "_view_module": "@jupyter-widgets/base",
            "_view_module_version": "1.2.0",
            "_view_name": "StyleView",
            "description_width": ""
          }
        },
        "143aa6294c7e47569a90dd8d2096ce88": {
          "model_module": "@jupyter-widgets/base",
          "model_name": "LayoutModel",
          "model_module_version": "1.2.0",
          "state": {
            "_model_module": "@jupyter-widgets/base",
            "_model_module_version": "1.2.0",
            "_model_name": "LayoutModel",
            "_view_count": null,
            "_view_module": "@jupyter-widgets/base",
            "_view_module_version": "1.2.0",
            "_view_name": "LayoutView",
            "align_content": null,
            "align_items": null,
            "align_self": null,
            "border": null,
            "bottom": null,
            "display": null,
            "flex": null,
            "flex_flow": null,
            "grid_area": null,
            "grid_auto_columns": null,
            "grid_auto_flow": null,
            "grid_auto_rows": null,
            "grid_column": null,
            "grid_gap": null,
            "grid_row": null,
            "grid_template_areas": null,
            "grid_template_columns": null,
            "grid_template_rows": null,
            "height": null,
            "justify_content": null,
            "justify_items": null,
            "left": null,
            "margin": null,
            "max_height": null,
            "max_width": null,
            "min_height": null,
            "min_width": null,
            "object_fit": null,
            "object_position": null,
            "order": null,
            "overflow": null,
            "overflow_x": null,
            "overflow_y": null,
            "padding": null,
            "right": null,
            "top": null,
            "visibility": null,
            "width": null
          }
        },
        "21241ce306484c6bbb1564d271999275": {
          "model_module": "@jupyter-widgets/controls",
          "model_name": "ProgressStyleModel",
          "model_module_version": "1.5.0",
          "state": {
            "_model_module": "@jupyter-widgets/controls",
            "_model_module_version": "1.5.0",
            "_model_name": "ProgressStyleModel",
            "_view_count": null,
            "_view_module": "@jupyter-widgets/base",
            "_view_module_version": "1.2.0",
            "_view_name": "StyleView",
            "bar_color": null,
            "description_width": ""
          }
        },
        "eebe152e0c81446bacacae7946826d30": {
          "model_module": "@jupyter-widgets/base",
          "model_name": "LayoutModel",
          "model_module_version": "1.2.0",
          "state": {
            "_model_module": "@jupyter-widgets/base",
            "_model_module_version": "1.2.0",
            "_model_name": "LayoutModel",
            "_view_count": null,
            "_view_module": "@jupyter-widgets/base",
            "_view_module_version": "1.2.0",
            "_view_name": "LayoutView",
            "align_content": null,
            "align_items": null,
            "align_self": null,
            "border": null,
            "bottom": null,
            "display": null,
            "flex": null,
            "flex_flow": null,
            "grid_area": null,
            "grid_auto_columns": null,
            "grid_auto_flow": null,
            "grid_auto_rows": null,
            "grid_column": null,
            "grid_gap": null,
            "grid_row": null,
            "grid_template_areas": null,
            "grid_template_columns": null,
            "grid_template_rows": null,
            "height": null,
            "justify_content": null,
            "justify_items": null,
            "left": null,
            "margin": null,
            "max_height": null,
            "max_width": null,
            "min_height": null,
            "min_width": null,
            "object_fit": null,
            "object_position": null,
            "order": null,
            "overflow": null,
            "overflow_x": null,
            "overflow_y": null,
            "padding": null,
            "right": null,
            "top": null,
            "visibility": null,
            "width": null
          }
        },
        "f4789db930dd42c7b44ee41808a31190": {
          "model_module": "@jupyter-widgets/controls",
          "model_name": "DescriptionStyleModel",
          "model_module_version": "1.5.0",
          "state": {
            "_model_module": "@jupyter-widgets/controls",
            "_model_module_version": "1.5.0",
            "_model_name": "DescriptionStyleModel",
            "_view_count": null,
            "_view_module": "@jupyter-widgets/base",
            "_view_module_version": "1.2.0",
            "_view_name": "StyleView",
            "description_width": ""
          }
        },
        "ab7bd3808671431a835b96876b388a8c": {
          "model_module": "@jupyter-widgets/controls",
          "model_name": "HBoxModel",
          "model_module_version": "1.5.0",
          "state": {
            "_dom_classes": [],
            "_model_module": "@jupyter-widgets/controls",
            "_model_module_version": "1.5.0",
            "_model_name": "HBoxModel",
            "_view_count": null,
            "_view_module": "@jupyter-widgets/controls",
            "_view_module_version": "1.5.0",
            "_view_name": "HBoxView",
            "box_style": "",
            "children": [
              "IPY_MODEL_4c02d152ad7f469fb1a8e5d4648bd01e",
              "IPY_MODEL_5ca87c17d0a54b26bed8a16b5cf0c760",
              "IPY_MODEL_7f6f09b381f247808285a06f36424bdd"
            ],
            "layout": "IPY_MODEL_e9f2e7cdf350413880d788070d9fd1e0"
          }
        },
        "4c02d152ad7f469fb1a8e5d4648bd01e": {
          "model_module": "@jupyter-widgets/controls",
          "model_name": "HTMLModel",
          "model_module_version": "1.5.0",
          "state": {
            "_dom_classes": [],
            "_model_module": "@jupyter-widgets/controls",
            "_model_module_version": "1.5.0",
            "_model_name": "HTMLModel",
            "_view_count": null,
            "_view_module": "@jupyter-widgets/controls",
            "_view_module_version": "1.5.0",
            "_view_name": "HTMLView",
            "description": "",
            "description_tooltip": null,
            "layout": "IPY_MODEL_24a7c2553ed14c49abe5f63be1990f5a",
            "placeholder": "​",
            "style": "IPY_MODEL_750c1186ada04e4b84a3c90a84c2a92f",
            "value": "Downloading (…)lve/main/config.json: 100%"
          }
        },
        "5ca87c17d0a54b26bed8a16b5cf0c760": {
          "model_module": "@jupyter-widgets/controls",
          "model_name": "FloatProgressModel",
          "model_module_version": "1.5.0",
          "state": {
            "_dom_classes": [],
            "_model_module": "@jupyter-widgets/controls",
            "_model_module_version": "1.5.0",
            "_model_name": "FloatProgressModel",
            "_view_count": null,
            "_view_module": "@jupyter-widgets/controls",
            "_view_module_version": "1.5.0",
            "_view_name": "ProgressView",
            "bar_style": "success",
            "description": "",
            "description_tooltip": null,
            "layout": "IPY_MODEL_6b4be217d5fc4f7cb9d43639b1a42471",
            "max": 472,
            "min": 0,
            "orientation": "horizontal",
            "style": "IPY_MODEL_48a64dc78cc44e829618ee595b020a01",
            "value": 472
          }
        },
        "7f6f09b381f247808285a06f36424bdd": {
          "model_module": "@jupyter-widgets/controls",
          "model_name": "HTMLModel",
          "model_module_version": "1.5.0",
          "state": {
            "_dom_classes": [],
            "_model_module": "@jupyter-widgets/controls",
            "_model_module_version": "1.5.0",
            "_model_name": "HTMLModel",
            "_view_count": null,
            "_view_module": "@jupyter-widgets/controls",
            "_view_module_version": "1.5.0",
            "_view_name": "HTMLView",
            "description": "",
            "description_tooltip": null,
            "layout": "IPY_MODEL_9a40527859f54d98aae7bc8944f35264",
            "placeholder": "​",
            "style": "IPY_MODEL_fdf9ca68e02b4246af5c45b3222d0f8d",
            "value": " 472/472 [00:00&lt;00:00, 26.6kB/s]"
          }
        },
        "e9f2e7cdf350413880d788070d9fd1e0": {
          "model_module": "@jupyter-widgets/base",
          "model_name": "LayoutModel",
          "model_module_version": "1.2.0",
          "state": {
            "_model_module": "@jupyter-widgets/base",
            "_model_module_version": "1.2.0",
            "_model_name": "LayoutModel",
            "_view_count": null,
            "_view_module": "@jupyter-widgets/base",
            "_view_module_version": "1.2.0",
            "_view_name": "LayoutView",
            "align_content": null,
            "align_items": null,
            "align_self": null,
            "border": null,
            "bottom": null,
            "display": null,
            "flex": null,
            "flex_flow": null,
            "grid_area": null,
            "grid_auto_columns": null,
            "grid_auto_flow": null,
            "grid_auto_rows": null,
            "grid_column": null,
            "grid_gap": null,
            "grid_row": null,
            "grid_template_areas": null,
            "grid_template_columns": null,
            "grid_template_rows": null,
            "height": null,
            "justify_content": null,
            "justify_items": null,
            "left": null,
            "margin": null,
            "max_height": null,
            "max_width": null,
            "min_height": null,
            "min_width": null,
            "object_fit": null,
            "object_position": null,
            "order": null,
            "overflow": null,
            "overflow_x": null,
            "overflow_y": null,
            "padding": null,
            "right": null,
            "top": null,
            "visibility": null,
            "width": null
          }
        },
        "24a7c2553ed14c49abe5f63be1990f5a": {
          "model_module": "@jupyter-widgets/base",
          "model_name": "LayoutModel",
          "model_module_version": "1.2.0",
          "state": {
            "_model_module": "@jupyter-widgets/base",
            "_model_module_version": "1.2.0",
            "_model_name": "LayoutModel",
            "_view_count": null,
            "_view_module": "@jupyter-widgets/base",
            "_view_module_version": "1.2.0",
            "_view_name": "LayoutView",
            "align_content": null,
            "align_items": null,
            "align_self": null,
            "border": null,
            "bottom": null,
            "display": null,
            "flex": null,
            "flex_flow": null,
            "grid_area": null,
            "grid_auto_columns": null,
            "grid_auto_flow": null,
            "grid_auto_rows": null,
            "grid_column": null,
            "grid_gap": null,
            "grid_row": null,
            "grid_template_areas": null,
            "grid_template_columns": null,
            "grid_template_rows": null,
            "height": null,
            "justify_content": null,
            "justify_items": null,
            "left": null,
            "margin": null,
            "max_height": null,
            "max_width": null,
            "min_height": null,
            "min_width": null,
            "object_fit": null,
            "object_position": null,
            "order": null,
            "overflow": null,
            "overflow_x": null,
            "overflow_y": null,
            "padding": null,
            "right": null,
            "top": null,
            "visibility": null,
            "width": null
          }
        },
        "750c1186ada04e4b84a3c90a84c2a92f": {
          "model_module": "@jupyter-widgets/controls",
          "model_name": "DescriptionStyleModel",
          "model_module_version": "1.5.0",
          "state": {
            "_model_module": "@jupyter-widgets/controls",
            "_model_module_version": "1.5.0",
            "_model_name": "DescriptionStyleModel",
            "_view_count": null,
            "_view_module": "@jupyter-widgets/base",
            "_view_module_version": "1.2.0",
            "_view_name": "StyleView",
            "description_width": ""
          }
        },
        "6b4be217d5fc4f7cb9d43639b1a42471": {
          "model_module": "@jupyter-widgets/base",
          "model_name": "LayoutModel",
          "model_module_version": "1.2.0",
          "state": {
            "_model_module": "@jupyter-widgets/base",
            "_model_module_version": "1.2.0",
            "_model_name": "LayoutModel",
            "_view_count": null,
            "_view_module": "@jupyter-widgets/base",
            "_view_module_version": "1.2.0",
            "_view_name": "LayoutView",
            "align_content": null,
            "align_items": null,
            "align_self": null,
            "border": null,
            "bottom": null,
            "display": null,
            "flex": null,
            "flex_flow": null,
            "grid_area": null,
            "grid_auto_columns": null,
            "grid_auto_flow": null,
            "grid_auto_rows": null,
            "grid_column": null,
            "grid_gap": null,
            "grid_row": null,
            "grid_template_areas": null,
            "grid_template_columns": null,
            "grid_template_rows": null,
            "height": null,
            "justify_content": null,
            "justify_items": null,
            "left": null,
            "margin": null,
            "max_height": null,
            "max_width": null,
            "min_height": null,
            "min_width": null,
            "object_fit": null,
            "object_position": null,
            "order": null,
            "overflow": null,
            "overflow_x": null,
            "overflow_y": null,
            "padding": null,
            "right": null,
            "top": null,
            "visibility": null,
            "width": null
          }
        },
        "48a64dc78cc44e829618ee595b020a01": {
          "model_module": "@jupyter-widgets/controls",
          "model_name": "ProgressStyleModel",
          "model_module_version": "1.5.0",
          "state": {
            "_model_module": "@jupyter-widgets/controls",
            "_model_module_version": "1.5.0",
            "_model_name": "ProgressStyleModel",
            "_view_count": null,
            "_view_module": "@jupyter-widgets/base",
            "_view_module_version": "1.2.0",
            "_view_name": "StyleView",
            "bar_color": null,
            "description_width": ""
          }
        },
        "9a40527859f54d98aae7bc8944f35264": {
          "model_module": "@jupyter-widgets/base",
          "model_name": "LayoutModel",
          "model_module_version": "1.2.0",
          "state": {
            "_model_module": "@jupyter-widgets/base",
            "_model_module_version": "1.2.0",
            "_model_name": "LayoutModel",
            "_view_count": null,
            "_view_module": "@jupyter-widgets/base",
            "_view_module_version": "1.2.0",
            "_view_name": "LayoutView",
            "align_content": null,
            "align_items": null,
            "align_self": null,
            "border": null,
            "bottom": null,
            "display": null,
            "flex": null,
            "flex_flow": null,
            "grid_area": null,
            "grid_auto_columns": null,
            "grid_auto_flow": null,
            "grid_auto_rows": null,
            "grid_column": null,
            "grid_gap": null,
            "grid_row": null,
            "grid_template_areas": null,
            "grid_template_columns": null,
            "grid_template_rows": null,
            "height": null,
            "justify_content": null,
            "justify_items": null,
            "left": null,
            "margin": null,
            "max_height": null,
            "max_width": null,
            "min_height": null,
            "min_width": null,
            "object_fit": null,
            "object_position": null,
            "order": null,
            "overflow": null,
            "overflow_x": null,
            "overflow_y": null,
            "padding": null,
            "right": null,
            "top": null,
            "visibility": null,
            "width": null
          }
        },
        "fdf9ca68e02b4246af5c45b3222d0f8d": {
          "model_module": "@jupyter-widgets/controls",
          "model_name": "DescriptionStyleModel",
          "model_module_version": "1.5.0",
          "state": {
            "_model_module": "@jupyter-widgets/controls",
            "_model_module_version": "1.5.0",
            "_model_name": "DescriptionStyleModel",
            "_view_count": null,
            "_view_module": "@jupyter-widgets/base",
            "_view_module_version": "1.2.0",
            "_view_name": "StyleView",
            "description_width": ""
          }
        },
        "ec0e1eb880b64ef2b8f5982db92a747f": {
          "model_module": "@jupyter-widgets/controls",
          "model_name": "HBoxModel",
          "model_module_version": "1.5.0",
          "state": {
            "_dom_classes": [],
            "_model_module": "@jupyter-widgets/controls",
            "_model_module_version": "1.5.0",
            "_model_name": "HBoxModel",
            "_view_count": null,
            "_view_module": "@jupyter-widgets/controls",
            "_view_module_version": "1.5.0",
            "_view_name": "HBoxView",
            "box_style": "",
            "children": [
              "IPY_MODEL_bd0a3e27ebfc416d9c2a9564460bf1e7",
              "IPY_MODEL_3ebf5ab91aad43baa190d34f3aeca3f5",
              "IPY_MODEL_b052273028aa4c86aa77c7137ba5eea4"
            ],
            "layout": "IPY_MODEL_281e913dc91e44afa66d18d047dfdb1f"
          }
        },
        "bd0a3e27ebfc416d9c2a9564460bf1e7": {
          "model_module": "@jupyter-widgets/controls",
          "model_name": "HTMLModel",
          "model_module_version": "1.5.0",
          "state": {
            "_dom_classes": [],
            "_model_module": "@jupyter-widgets/controls",
            "_model_module_version": "1.5.0",
            "_model_name": "HTMLModel",
            "_view_count": null,
            "_view_module": "@jupyter-widgets/controls",
            "_view_module_version": "1.5.0",
            "_view_name": "HTMLView",
            "description": "",
            "description_tooltip": null,
            "layout": "IPY_MODEL_4b483d2bc7a04657beb7daac2ea15085",
            "placeholder": "​",
            "style": "IPY_MODEL_38287c0031854188acf868dadf622214",
            "value": "Downloading pytorch_model.bin: 100%"
          }
        },
        "3ebf5ab91aad43baa190d34f3aeca3f5": {
          "model_module": "@jupyter-widgets/controls",
          "model_name": "FloatProgressModel",
          "model_module_version": "1.5.0",
          "state": {
            "_dom_classes": [],
            "_model_module": "@jupyter-widgets/controls",
            "_model_module_version": "1.5.0",
            "_model_name": "FloatProgressModel",
            "_view_count": null,
            "_view_module": "@jupyter-widgets/controls",
            "_view_module_version": "1.5.0",
            "_view_name": "ProgressView",
            "bar_style": "success",
            "description": "",
            "description_tooltip": null,
            "layout": "IPY_MODEL_7f23506108dd4b02b98f43f2f563407c",
            "max": 447406217,
            "min": 0,
            "orientation": "horizontal",
            "style": "IPY_MODEL_381c1b27b4684a69960319d7a187f001",
            "value": 447406217
          }
        },
        "b052273028aa4c86aa77c7137ba5eea4": {
          "model_module": "@jupyter-widgets/controls",
          "model_name": "HTMLModel",
          "model_module_version": "1.5.0",
          "state": {
            "_dom_classes": [],
            "_model_module": "@jupyter-widgets/controls",
            "_model_module_version": "1.5.0",
            "_model_name": "HTMLModel",
            "_view_count": null,
            "_view_module": "@jupyter-widgets/controls",
            "_view_module_version": "1.5.0",
            "_view_name": "HTMLView",
            "description": "",
            "description_tooltip": null,
            "layout": "IPY_MODEL_45a2f733c71942098e703af1d3bac5ab",
            "placeholder": "​",
            "style": "IPY_MODEL_149e23d0ef3447acb80db0d12a90ecca",
            "value": " 447M/447M [00:01&lt;00:00, 346MB/s]"
          }
        },
        "281e913dc91e44afa66d18d047dfdb1f": {
          "model_module": "@jupyter-widgets/base",
          "model_name": "LayoutModel",
          "model_module_version": "1.2.0",
          "state": {
            "_model_module": "@jupyter-widgets/base",
            "_model_module_version": "1.2.0",
            "_model_name": "LayoutModel",
            "_view_count": null,
            "_view_module": "@jupyter-widgets/base",
            "_view_module_version": "1.2.0",
            "_view_name": "LayoutView",
            "align_content": null,
            "align_items": null,
            "align_self": null,
            "border": null,
            "bottom": null,
            "display": null,
            "flex": null,
            "flex_flow": null,
            "grid_area": null,
            "grid_auto_columns": null,
            "grid_auto_flow": null,
            "grid_auto_rows": null,
            "grid_column": null,
            "grid_gap": null,
            "grid_row": null,
            "grid_template_areas": null,
            "grid_template_columns": null,
            "grid_template_rows": null,
            "height": null,
            "justify_content": null,
            "justify_items": null,
            "left": null,
            "margin": null,
            "max_height": null,
            "max_width": null,
            "min_height": null,
            "min_width": null,
            "object_fit": null,
            "object_position": null,
            "order": null,
            "overflow": null,
            "overflow_x": null,
            "overflow_y": null,
            "padding": null,
            "right": null,
            "top": null,
            "visibility": null,
            "width": null
          }
        },
        "4b483d2bc7a04657beb7daac2ea15085": {
          "model_module": "@jupyter-widgets/base",
          "model_name": "LayoutModel",
          "model_module_version": "1.2.0",
          "state": {
            "_model_module": "@jupyter-widgets/base",
            "_model_module_version": "1.2.0",
            "_model_name": "LayoutModel",
            "_view_count": null,
            "_view_module": "@jupyter-widgets/base",
            "_view_module_version": "1.2.0",
            "_view_name": "LayoutView",
            "align_content": null,
            "align_items": null,
            "align_self": null,
            "border": null,
            "bottom": null,
            "display": null,
            "flex": null,
            "flex_flow": null,
            "grid_area": null,
            "grid_auto_columns": null,
            "grid_auto_flow": null,
            "grid_auto_rows": null,
            "grid_column": null,
            "grid_gap": null,
            "grid_row": null,
            "grid_template_areas": null,
            "grid_template_columns": null,
            "grid_template_rows": null,
            "height": null,
            "justify_content": null,
            "justify_items": null,
            "left": null,
            "margin": null,
            "max_height": null,
            "max_width": null,
            "min_height": null,
            "min_width": null,
            "object_fit": null,
            "object_position": null,
            "order": null,
            "overflow": null,
            "overflow_x": null,
            "overflow_y": null,
            "padding": null,
            "right": null,
            "top": null,
            "visibility": null,
            "width": null
          }
        },
        "38287c0031854188acf868dadf622214": {
          "model_module": "@jupyter-widgets/controls",
          "model_name": "DescriptionStyleModel",
          "model_module_version": "1.5.0",
          "state": {
            "_model_module": "@jupyter-widgets/controls",
            "_model_module_version": "1.5.0",
            "_model_name": "DescriptionStyleModel",
            "_view_count": null,
            "_view_module": "@jupyter-widgets/base",
            "_view_module_version": "1.2.0",
            "_view_name": "StyleView",
            "description_width": ""
          }
        },
        "7f23506108dd4b02b98f43f2f563407c": {
          "model_module": "@jupyter-widgets/base",
          "model_name": "LayoutModel",
          "model_module_version": "1.2.0",
          "state": {
            "_model_module": "@jupyter-widgets/base",
            "_model_module_version": "1.2.0",
            "_model_name": "LayoutModel",
            "_view_count": null,
            "_view_module": "@jupyter-widgets/base",
            "_view_module_version": "1.2.0",
            "_view_name": "LayoutView",
            "align_content": null,
            "align_items": null,
            "align_self": null,
            "border": null,
            "bottom": null,
            "display": null,
            "flex": null,
            "flex_flow": null,
            "grid_area": null,
            "grid_auto_columns": null,
            "grid_auto_flow": null,
            "grid_auto_rows": null,
            "grid_column": null,
            "grid_gap": null,
            "grid_row": null,
            "grid_template_areas": null,
            "grid_template_columns": null,
            "grid_template_rows": null,
            "height": null,
            "justify_content": null,
            "justify_items": null,
            "left": null,
            "margin": null,
            "max_height": null,
            "max_width": null,
            "min_height": null,
            "min_width": null,
            "object_fit": null,
            "object_position": null,
            "order": null,
            "overflow": null,
            "overflow_x": null,
            "overflow_y": null,
            "padding": null,
            "right": null,
            "top": null,
            "visibility": null,
            "width": null
          }
        },
        "381c1b27b4684a69960319d7a187f001": {
          "model_module": "@jupyter-widgets/controls",
          "model_name": "ProgressStyleModel",
          "model_module_version": "1.5.0",
          "state": {
            "_model_module": "@jupyter-widgets/controls",
            "_model_module_version": "1.5.0",
            "_model_name": "ProgressStyleModel",
            "_view_count": null,
            "_view_module": "@jupyter-widgets/base",
            "_view_module_version": "1.2.0",
            "_view_name": "StyleView",
            "bar_color": null,
            "description_width": ""
          }
        },
        "45a2f733c71942098e703af1d3bac5ab": {
          "model_module": "@jupyter-widgets/base",
          "model_name": "LayoutModel",
          "model_module_version": "1.2.0",
          "state": {
            "_model_module": "@jupyter-widgets/base",
            "_model_module_version": "1.2.0",
            "_model_name": "LayoutModel",
            "_view_count": null,
            "_view_module": "@jupyter-widgets/base",
            "_view_module_version": "1.2.0",
            "_view_name": "LayoutView",
            "align_content": null,
            "align_items": null,
            "align_self": null,
            "border": null,
            "bottom": null,
            "display": null,
            "flex": null,
            "flex_flow": null,
            "grid_area": null,
            "grid_auto_columns": null,
            "grid_auto_flow": null,
            "grid_auto_rows": null,
            "grid_column": null,
            "grid_gap": null,
            "grid_row": null,
            "grid_template_areas": null,
            "grid_template_columns": null,
            "grid_template_rows": null,
            "height": null,
            "justify_content": null,
            "justify_items": null,
            "left": null,
            "margin": null,
            "max_height": null,
            "max_width": null,
            "min_height": null,
            "min_width": null,
            "object_fit": null,
            "object_position": null,
            "order": null,
            "overflow": null,
            "overflow_x": null,
            "overflow_y": null,
            "padding": null,
            "right": null,
            "top": null,
            "visibility": null,
            "width": null
          }
        },
        "149e23d0ef3447acb80db0d12a90ecca": {
          "model_module": "@jupyter-widgets/controls",
          "model_name": "DescriptionStyleModel",
          "model_module_version": "1.5.0",
          "state": {
            "_model_module": "@jupyter-widgets/controls",
            "_model_module_version": "1.5.0",
            "_model_name": "DescriptionStyleModel",
            "_view_count": null,
            "_view_module": "@jupyter-widgets/base",
            "_view_module_version": "1.2.0",
            "_view_name": "StyleView",
            "description_width": ""
          }
        },
        "1daf48e38a9c47f285a5e1d2029f225e": {
          "model_module": "@jupyter-widgets/controls",
          "model_name": "HBoxModel",
          "model_module_version": "1.5.0",
          "state": {
            "_dom_classes": [],
            "_model_module": "@jupyter-widgets/controls",
            "_model_module_version": "1.5.0",
            "_model_name": "HBoxModel",
            "_view_count": null,
            "_view_module": "@jupyter-widgets/controls",
            "_view_module_version": "1.5.0",
            "_view_name": "HBoxView",
            "box_style": "",
            "children": [
              "IPY_MODEL_bdb779373dc94b6b9a56481c7332bd1d",
              "IPY_MODEL_acca064dbe4f4407a74d08fe4a63d579",
              "IPY_MODEL_cde9e4ef45364909b4329042cd746382"
            ],
            "layout": "IPY_MODEL_6ce11ecefd29494ca437554255452fe8"
          }
        },
        "bdb779373dc94b6b9a56481c7332bd1d": {
          "model_module": "@jupyter-widgets/controls",
          "model_name": "HTMLModel",
          "model_module_version": "1.5.0",
          "state": {
            "_dom_classes": [],
            "_model_module": "@jupyter-widgets/controls",
            "_model_module_version": "1.5.0",
            "_model_name": "HTMLModel",
            "_view_count": null,
            "_view_module": "@jupyter-widgets/controls",
            "_view_module_version": "1.5.0",
            "_view_name": "HTMLView",
            "description": "",
            "description_tooltip": null,
            "layout": "IPY_MODEL_72fef6ad562b4c7eae0b611706546ab2",
            "placeholder": "​",
            "style": "IPY_MODEL_a30a09931e7c495a9caea97eb89fc4b9",
            "value": "tokenizer_config.json: 100%"
          }
        },
        "acca064dbe4f4407a74d08fe4a63d579": {
          "model_module": "@jupyter-widgets/controls",
          "model_name": "FloatProgressModel",
          "model_module_version": "1.5.0",
          "state": {
            "_dom_classes": [],
            "_model_module": "@jupyter-widgets/controls",
            "_model_module_version": "1.5.0",
            "_model_name": "FloatProgressModel",
            "_view_count": null,
            "_view_module": "@jupyter-widgets/controls",
            "_view_module_version": "1.5.0",
            "_view_name": "ProgressView",
            "bar_style": "success",
            "description": "",
            "description_tooltip": null,
            "layout": "IPY_MODEL_6089bf5f40144c1096c10a4b9f884480",
            "max": 251,
            "min": 0,
            "orientation": "horizontal",
            "style": "IPY_MODEL_429df105fde24f20a310867f8bab61b2",
            "value": 251
          }
        },
        "cde9e4ef45364909b4329042cd746382": {
          "model_module": "@jupyter-widgets/controls",
          "model_name": "HTMLModel",
          "model_module_version": "1.5.0",
          "state": {
            "_dom_classes": [],
            "_model_module": "@jupyter-widgets/controls",
            "_model_module_version": "1.5.0",
            "_model_name": "HTMLModel",
            "_view_count": null,
            "_view_module": "@jupyter-widgets/controls",
            "_view_module_version": "1.5.0",
            "_view_name": "HTMLView",
            "description": "",
            "description_tooltip": null,
            "layout": "IPY_MODEL_1473696eddfe4467a0bd374485151055",
            "placeholder": "​",
            "style": "IPY_MODEL_5f9448302521456f8f874aab96e98ff3",
            "value": " 251/251 [00:00&lt;00:00, 10.8kB/s]"
          }
        },
        "6ce11ecefd29494ca437554255452fe8": {
          "model_module": "@jupyter-widgets/base",
          "model_name": "LayoutModel",
          "model_module_version": "1.2.0",
          "state": {
            "_model_module": "@jupyter-widgets/base",
            "_model_module_version": "1.2.0",
            "_model_name": "LayoutModel",
            "_view_count": null,
            "_view_module": "@jupyter-widgets/base",
            "_view_module_version": "1.2.0",
            "_view_name": "LayoutView",
            "align_content": null,
            "align_items": null,
            "align_self": null,
            "border": null,
            "bottom": null,
            "display": null,
            "flex": null,
            "flex_flow": null,
            "grid_area": null,
            "grid_auto_columns": null,
            "grid_auto_flow": null,
            "grid_auto_rows": null,
            "grid_column": null,
            "grid_gap": null,
            "grid_row": null,
            "grid_template_areas": null,
            "grid_template_columns": null,
            "grid_template_rows": null,
            "height": null,
            "justify_content": null,
            "justify_items": null,
            "left": null,
            "margin": null,
            "max_height": null,
            "max_width": null,
            "min_height": null,
            "min_width": null,
            "object_fit": null,
            "object_position": null,
            "order": null,
            "overflow": null,
            "overflow_x": null,
            "overflow_y": null,
            "padding": null,
            "right": null,
            "top": null,
            "visibility": null,
            "width": null
          }
        },
        "72fef6ad562b4c7eae0b611706546ab2": {
          "model_module": "@jupyter-widgets/base",
          "model_name": "LayoutModel",
          "model_module_version": "1.2.0",
          "state": {
            "_model_module": "@jupyter-widgets/base",
            "_model_module_version": "1.2.0",
            "_model_name": "LayoutModel",
            "_view_count": null,
            "_view_module": "@jupyter-widgets/base",
            "_view_module_version": "1.2.0",
            "_view_name": "LayoutView",
            "align_content": null,
            "align_items": null,
            "align_self": null,
            "border": null,
            "bottom": null,
            "display": null,
            "flex": null,
            "flex_flow": null,
            "grid_area": null,
            "grid_auto_columns": null,
            "grid_auto_flow": null,
            "grid_auto_rows": null,
            "grid_column": null,
            "grid_gap": null,
            "grid_row": null,
            "grid_template_areas": null,
            "grid_template_columns": null,
            "grid_template_rows": null,
            "height": null,
            "justify_content": null,
            "justify_items": null,
            "left": null,
            "margin": null,
            "max_height": null,
            "max_width": null,
            "min_height": null,
            "min_width": null,
            "object_fit": null,
            "object_position": null,
            "order": null,
            "overflow": null,
            "overflow_x": null,
            "overflow_y": null,
            "padding": null,
            "right": null,
            "top": null,
            "visibility": null,
            "width": null
          }
        },
        "a30a09931e7c495a9caea97eb89fc4b9": {
          "model_module": "@jupyter-widgets/controls",
          "model_name": "DescriptionStyleModel",
          "model_module_version": "1.5.0",
          "state": {
            "_model_module": "@jupyter-widgets/controls",
            "_model_module_version": "1.5.0",
            "_model_name": "DescriptionStyleModel",
            "_view_count": null,
            "_view_module": "@jupyter-widgets/base",
            "_view_module_version": "1.2.0",
            "_view_name": "StyleView",
            "description_width": ""
          }
        },
        "6089bf5f40144c1096c10a4b9f884480": {
          "model_module": "@jupyter-widgets/base",
          "model_name": "LayoutModel",
          "model_module_version": "1.2.0",
          "state": {
            "_model_module": "@jupyter-widgets/base",
            "_model_module_version": "1.2.0",
            "_model_name": "LayoutModel",
            "_view_count": null,
            "_view_module": "@jupyter-widgets/base",
            "_view_module_version": "1.2.0",
            "_view_name": "LayoutView",
            "align_content": null,
            "align_items": null,
            "align_self": null,
            "border": null,
            "bottom": null,
            "display": null,
            "flex": null,
            "flex_flow": null,
            "grid_area": null,
            "grid_auto_columns": null,
            "grid_auto_flow": null,
            "grid_auto_rows": null,
            "grid_column": null,
            "grid_gap": null,
            "grid_row": null,
            "grid_template_areas": null,
            "grid_template_columns": null,
            "grid_template_rows": null,
            "height": null,
            "justify_content": null,
            "justify_items": null,
            "left": null,
            "margin": null,
            "max_height": null,
            "max_width": null,
            "min_height": null,
            "min_width": null,
            "object_fit": null,
            "object_position": null,
            "order": null,
            "overflow": null,
            "overflow_x": null,
            "overflow_y": null,
            "padding": null,
            "right": null,
            "top": null,
            "visibility": null,
            "width": null
          }
        },
        "429df105fde24f20a310867f8bab61b2": {
          "model_module": "@jupyter-widgets/controls",
          "model_name": "ProgressStyleModel",
          "model_module_version": "1.5.0",
          "state": {
            "_model_module": "@jupyter-widgets/controls",
            "_model_module_version": "1.5.0",
            "_model_name": "ProgressStyleModel",
            "_view_count": null,
            "_view_module": "@jupyter-widgets/base",
            "_view_module_version": "1.2.0",
            "_view_name": "StyleView",
            "bar_color": null,
            "description_width": ""
          }
        },
        "1473696eddfe4467a0bd374485151055": {
          "model_module": "@jupyter-widgets/base",
          "model_name": "LayoutModel",
          "model_module_version": "1.2.0",
          "state": {
            "_model_module": "@jupyter-widgets/base",
            "_model_module_version": "1.2.0",
            "_model_name": "LayoutModel",
            "_view_count": null,
            "_view_module": "@jupyter-widgets/base",
            "_view_module_version": "1.2.0",
            "_view_name": "LayoutView",
            "align_content": null,
            "align_items": null,
            "align_self": null,
            "border": null,
            "bottom": null,
            "display": null,
            "flex": null,
            "flex_flow": null,
            "grid_area": null,
            "grid_auto_columns": null,
            "grid_auto_flow": null,
            "grid_auto_rows": null,
            "grid_column": null,
            "grid_gap": null,
            "grid_row": null,
            "grid_template_areas": null,
            "grid_template_columns": null,
            "grid_template_rows": null,
            "height": null,
            "justify_content": null,
            "justify_items": null,
            "left": null,
            "margin": null,
            "max_height": null,
            "max_width": null,
            "min_height": null,
            "min_width": null,
            "object_fit": null,
            "object_position": null,
            "order": null,
            "overflow": null,
            "overflow_x": null,
            "overflow_y": null,
            "padding": null,
            "right": null,
            "top": null,
            "visibility": null,
            "width": null
          }
        },
        "5f9448302521456f8f874aab96e98ff3": {
          "model_module": "@jupyter-widgets/controls",
          "model_name": "DescriptionStyleModel",
          "model_module_version": "1.5.0",
          "state": {
            "_model_module": "@jupyter-widgets/controls",
            "_model_module_version": "1.5.0",
            "_model_name": "DescriptionStyleModel",
            "_view_count": null,
            "_view_module": "@jupyter-widgets/base",
            "_view_module_version": "1.2.0",
            "_view_name": "StyleView",
            "description_width": ""
          }
        },
        "30a7ba80533e4cb280ab92f860261616": {
          "model_module": "@jupyter-widgets/controls",
          "model_name": "HBoxModel",
          "model_module_version": "1.5.0",
          "state": {
            "_dom_classes": [],
            "_model_module": "@jupyter-widgets/controls",
            "_model_module_version": "1.5.0",
            "_model_name": "HBoxModel",
            "_view_count": null,
            "_view_module": "@jupyter-widgets/controls",
            "_view_module_version": "1.5.0",
            "_view_name": "HBoxView",
            "box_style": "",
            "children": [
              "IPY_MODEL_679c7d39af25418d83d7d0501400d6c6",
              "IPY_MODEL_9b33fd47902d419a87e6ffc4658eb163",
              "IPY_MODEL_019d9a64bcd046cbbcdf09772cca3f2a"
            ],
            "layout": "IPY_MODEL_6e5a7e245bfb4ca6baad4f4c8102b708"
          }
        },
        "679c7d39af25418d83d7d0501400d6c6": {
          "model_module": "@jupyter-widgets/controls",
          "model_name": "HTMLModel",
          "model_module_version": "1.5.0",
          "state": {
            "_dom_classes": [],
            "_model_module": "@jupyter-widgets/controls",
            "_model_module_version": "1.5.0",
            "_model_name": "HTMLModel",
            "_view_count": null,
            "_view_module": "@jupyter-widgets/controls",
            "_view_module_version": "1.5.0",
            "_view_name": "HTMLView",
            "description": "",
            "description_tooltip": null,
            "layout": "IPY_MODEL_42c5737a1fe84449a0e23dac832d48f9",
            "placeholder": "​",
            "style": "IPY_MODEL_d550e933a0ea407ab8f65211fb142213",
            "value": "vocab.txt: 100%"
          }
        },
        "9b33fd47902d419a87e6ffc4658eb163": {
          "model_module": "@jupyter-widgets/controls",
          "model_name": "FloatProgressModel",
          "model_module_version": "1.5.0",
          "state": {
            "_dom_classes": [],
            "_model_module": "@jupyter-widgets/controls",
            "_model_module_version": "1.5.0",
            "_model_name": "FloatProgressModel",
            "_view_count": null,
            "_view_module": "@jupyter-widgets/controls",
            "_view_module_version": "1.5.0",
            "_view_name": "ProgressView",
            "bar_style": "success",
            "description": "",
            "description_tooltip": null,
            "layout": "IPY_MODEL_4f327a5fdfd5485e86f42ad666509265",
            "max": 231026,
            "min": 0,
            "orientation": "horizontal",
            "style": "IPY_MODEL_9fb861d5c5bc46e0b61d4a82650e1a9e",
            "value": 231026
          }
        },
        "019d9a64bcd046cbbcdf09772cca3f2a": {
          "model_module": "@jupyter-widgets/controls",
          "model_name": "HTMLModel",
          "model_module_version": "1.5.0",
          "state": {
            "_dom_classes": [],
            "_model_module": "@jupyter-widgets/controls",
            "_model_module_version": "1.5.0",
            "_model_name": "HTMLModel",
            "_view_count": null,
            "_view_module": "@jupyter-widgets/controls",
            "_view_module_version": "1.5.0",
            "_view_name": "HTMLView",
            "description": "",
            "description_tooltip": null,
            "layout": "IPY_MODEL_252d47530a794a8eae8e73688275c01c",
            "placeholder": "​",
            "style": "IPY_MODEL_1a68a498de0b4868abbbc1709664eb17",
            "value": " 231k/231k [00:00&lt;00:00, 3.17MB/s]"
          }
        },
        "6e5a7e245bfb4ca6baad4f4c8102b708": {
          "model_module": "@jupyter-widgets/base",
          "model_name": "LayoutModel",
          "model_module_version": "1.2.0",
          "state": {
            "_model_module": "@jupyter-widgets/base",
            "_model_module_version": "1.2.0",
            "_model_name": "LayoutModel",
            "_view_count": null,
            "_view_module": "@jupyter-widgets/base",
            "_view_module_version": "1.2.0",
            "_view_name": "LayoutView",
            "align_content": null,
            "align_items": null,
            "align_self": null,
            "border": null,
            "bottom": null,
            "display": null,
            "flex": null,
            "flex_flow": null,
            "grid_area": null,
            "grid_auto_columns": null,
            "grid_auto_flow": null,
            "grid_auto_rows": null,
            "grid_column": null,
            "grid_gap": null,
            "grid_row": null,
            "grid_template_areas": null,
            "grid_template_columns": null,
            "grid_template_rows": null,
            "height": null,
            "justify_content": null,
            "justify_items": null,
            "left": null,
            "margin": null,
            "max_height": null,
            "max_width": null,
            "min_height": null,
            "min_width": null,
            "object_fit": null,
            "object_position": null,
            "order": null,
            "overflow": null,
            "overflow_x": null,
            "overflow_y": null,
            "padding": null,
            "right": null,
            "top": null,
            "visibility": null,
            "width": null
          }
        },
        "42c5737a1fe84449a0e23dac832d48f9": {
          "model_module": "@jupyter-widgets/base",
          "model_name": "LayoutModel",
          "model_module_version": "1.2.0",
          "state": {
            "_model_module": "@jupyter-widgets/base",
            "_model_module_version": "1.2.0",
            "_model_name": "LayoutModel",
            "_view_count": null,
            "_view_module": "@jupyter-widgets/base",
            "_view_module_version": "1.2.0",
            "_view_name": "LayoutView",
            "align_content": null,
            "align_items": null,
            "align_self": null,
            "border": null,
            "bottom": null,
            "display": null,
            "flex": null,
            "flex_flow": null,
            "grid_area": null,
            "grid_auto_columns": null,
            "grid_auto_flow": null,
            "grid_auto_rows": null,
            "grid_column": null,
            "grid_gap": null,
            "grid_row": null,
            "grid_template_areas": null,
            "grid_template_columns": null,
            "grid_template_rows": null,
            "height": null,
            "justify_content": null,
            "justify_items": null,
            "left": null,
            "margin": null,
            "max_height": null,
            "max_width": null,
            "min_height": null,
            "min_width": null,
            "object_fit": null,
            "object_position": null,
            "order": null,
            "overflow": null,
            "overflow_x": null,
            "overflow_y": null,
            "padding": null,
            "right": null,
            "top": null,
            "visibility": null,
            "width": null
          }
        },
        "d550e933a0ea407ab8f65211fb142213": {
          "model_module": "@jupyter-widgets/controls",
          "model_name": "DescriptionStyleModel",
          "model_module_version": "1.5.0",
          "state": {
            "_model_module": "@jupyter-widgets/controls",
            "_model_module_version": "1.5.0",
            "_model_name": "DescriptionStyleModel",
            "_view_count": null,
            "_view_module": "@jupyter-widgets/base",
            "_view_module_version": "1.2.0",
            "_view_name": "StyleView",
            "description_width": ""
          }
        },
        "4f327a5fdfd5485e86f42ad666509265": {
          "model_module": "@jupyter-widgets/base",
          "model_name": "LayoutModel",
          "model_module_version": "1.2.0",
          "state": {
            "_model_module": "@jupyter-widgets/base",
            "_model_module_version": "1.2.0",
            "_model_name": "LayoutModel",
            "_view_count": null,
            "_view_module": "@jupyter-widgets/base",
            "_view_module_version": "1.2.0",
            "_view_name": "LayoutView",
            "align_content": null,
            "align_items": null,
            "align_self": null,
            "border": null,
            "bottom": null,
            "display": null,
            "flex": null,
            "flex_flow": null,
            "grid_area": null,
            "grid_auto_columns": null,
            "grid_auto_flow": null,
            "grid_auto_rows": null,
            "grid_column": null,
            "grid_gap": null,
            "grid_row": null,
            "grid_template_areas": null,
            "grid_template_columns": null,
            "grid_template_rows": null,
            "height": null,
            "justify_content": null,
            "justify_items": null,
            "left": null,
            "margin": null,
            "max_height": null,
            "max_width": null,
            "min_height": null,
            "min_width": null,
            "object_fit": null,
            "object_position": null,
            "order": null,
            "overflow": null,
            "overflow_x": null,
            "overflow_y": null,
            "padding": null,
            "right": null,
            "top": null,
            "visibility": null,
            "width": null
          }
        },
        "9fb861d5c5bc46e0b61d4a82650e1a9e": {
          "model_module": "@jupyter-widgets/controls",
          "model_name": "ProgressStyleModel",
          "model_module_version": "1.5.0",
          "state": {
            "_model_module": "@jupyter-widgets/controls",
            "_model_module_version": "1.5.0",
            "_model_name": "ProgressStyleModel",
            "_view_count": null,
            "_view_module": "@jupyter-widgets/base",
            "_view_module_version": "1.2.0",
            "_view_name": "StyleView",
            "bar_color": null,
            "description_width": ""
          }
        },
        "252d47530a794a8eae8e73688275c01c": {
          "model_module": "@jupyter-widgets/base",
          "model_name": "LayoutModel",
          "model_module_version": "1.2.0",
          "state": {
            "_model_module": "@jupyter-widgets/base",
            "_model_module_version": "1.2.0",
            "_model_name": "LayoutModel",
            "_view_count": null,
            "_view_module": "@jupyter-widgets/base",
            "_view_module_version": "1.2.0",
            "_view_name": "LayoutView",
            "align_content": null,
            "align_items": null,
            "align_self": null,
            "border": null,
            "bottom": null,
            "display": null,
            "flex": null,
            "flex_flow": null,
            "grid_area": null,
            "grid_auto_columns": null,
            "grid_auto_flow": null,
            "grid_auto_rows": null,
            "grid_column": null,
            "grid_gap": null,
            "grid_row": null,
            "grid_template_areas": null,
            "grid_template_columns": null,
            "grid_template_rows": null,
            "height": null,
            "justify_content": null,
            "justify_items": null,
            "left": null,
            "margin": null,
            "max_height": null,
            "max_width": null,
            "min_height": null,
            "min_width": null,
            "object_fit": null,
            "object_position": null,
            "order": null,
            "overflow": null,
            "overflow_x": null,
            "overflow_y": null,
            "padding": null,
            "right": null,
            "top": null,
            "visibility": null,
            "width": null
          }
        },
        "1a68a498de0b4868abbbc1709664eb17": {
          "model_module": "@jupyter-widgets/controls",
          "model_name": "DescriptionStyleModel",
          "model_module_version": "1.5.0",
          "state": {
            "_model_module": "@jupyter-widgets/controls",
            "_model_module_version": "1.5.0",
            "_model_name": "DescriptionStyleModel",
            "_view_count": null,
            "_view_module": "@jupyter-widgets/base",
            "_view_module_version": "1.2.0",
            "_view_name": "StyleView",
            "description_width": ""
          }
        }
      }
    }
  },
  "nbformat": 4,
  "nbformat_minor": 5
}